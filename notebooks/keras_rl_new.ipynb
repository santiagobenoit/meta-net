{
 "cells": [
  {
   "cell_type": "code",
   "execution_count": 1,
   "metadata": {},
   "outputs": [
    {
     "data": {
      "text/html": [
       "<style>.container { width:100% !important; }</style>"
      ],
      "text/plain": [
       "<IPython.core.display.HTML object>"
      ]
     },
     "metadata": {},
     "output_type": "display_data"
    }
   ],
   "source": [
    "from IPython.core.display import display, HTML\n",
    "display(HTML(\"<style>.container { width:100% !important; }</style>\"))"
   ]
  },
  {
   "cell_type": "code",
   "execution_count": 2,
   "metadata": {},
   "outputs": [
    {
     "name": "stderr",
     "output_type": "stream",
     "text": [
      "Using TensorFlow backend.\n"
     ]
    },
    {
     "name": "stdout",
     "output_type": "stream",
     "text": [
      "3.6.5 (default, Apr  1 2018, 05:46:30) \n",
      "[GCC 7.3.0]\n"
     ]
    }
   ],
   "source": [
    "import random\n",
    "\n",
    "import gym\n",
    "from gym import spaces\n",
    "import keras\n",
    "from keras.layers import *\n",
    "from keras.models import *\n",
    "import numpy\n",
    "import rl\n",
    "import scipy.sparse\n",
    "import skimage.io\n",
    "\n",
    "import sys\n",
    "print(sys.version)\n",
    "\n",
    "%matplotlib inline"
   ]
  },
  {
   "cell_type": "code",
   "execution_count": null,
   "metadata": {},
   "outputs": [],
   "source": [
    "# input_neurons = 8\n",
    "# inter_neurons = 128\n",
    "# output_neurons = 8\n",
    "# max_history = 16\n",
    "# hidden_size = 32"
   ]
  },
  {
   "cell_type": "code",
   "execution_count": null,
   "metadata": {},
   "outputs": [],
   "source": []
  },
  {
   "cell_type": "code",
   "execution_count": null,
   "metadata": {},
   "outputs": [],
   "source": []
  },
  {
   "cell_type": "code",
   "execution_count": null,
   "metadata": {},
   "outputs": [],
   "source": []
  },
  {
   "cell_type": "code",
   "execution_count": 15,
   "metadata": {},
   "outputs": [],
   "source": [
    "def sigmoid(x):\n",
    "    return 1 / (1 + numpy.exp(-x))"
   ]
  },
  {
   "cell_type": "code",
   "execution_count": null,
   "metadata": {},
   "outputs": [],
   "source": []
  },
  {
   "cell_type": "code",
   "execution_count": 3,
   "metadata": {},
   "outputs": [],
   "source": [
    "def hebbian(history):\n",
    "    return numpy.tanh(numpy.vectorize(lambda x: -1/5*(x-5))(history))"
   ]
  },
  {
   "cell_type": "code",
   "execution_count": 41,
   "metadata": {},
   "outputs": [],
   "source": [
    "class SNN(gym.Env):\n",
    "    \n",
    "    def __init__(self, specification):\n",
    "        self.specification = specification\n",
    "        self.total_neurons = self.specification['input_neurons'] + self.specification['inter_neurons'] + self.specification['output_neurons']\n",
    "        self.observation_space = gym.spaces.Box(-1, float('inf'), ((self.specification['inter_neurons'] + self.specification['output_neurons']) * (1 + 2 * (self.specification['input_neurons'] + self.specification['inter_neurons'])),), dtype=float)\n",
    "        self.action_space = gym.spaces.Box(-1, 1, ((self.specification['inter_neurons'] + self.specification['output_neurons']) * (2 * (self.specification['input_neurons'] + self.specification['inter_neurons'])),), dtype=float)\n",
    "#         self.observation_space = gym.spaces.Tuple((gym.spaces.Box(-1, 1, (self.specification['input_neurons'] + self.specification['inter_neurons'],)), gym.spaces.Box(-1, 1, (self.specification['input_neurons'] + self.specification['inter_neurons'],))))\n",
    "        self.potential_matrix = numpy.zeros((self.total_neurons,))\n",
    "        self.weight_matrix = numpy.zeros((self.specification['inter_neurons'] + self.specification['output_neurons'], self.specification['input_neurons'] + self.specification['inter_neurons']))\n",
    "        self.weight_backup = self.weight_matrix.copy()\n",
    "        self.weight_mask = numpy.ones_like(self.weight_matrix, dtype=numpy.uint8)\n",
    "        self.weight_mask[-self.specification['output_neurons']:, :self.specification['input_neurons']] = 0\n",
    "        numpy.fill_diagonal(self.weight_mask[:self.specification['inter_neurons'], -self.specification['inter_neurons']:], 0)\n",
    "        self.history_matrix = numpy.zeros((self.specification['inter_neurons'] + self.specification['output_neurons'], 1 + 2 * (self.specification['input_neurons'] + self.specification['inter_neurons'])))\n",
    "        self.random_seed = None\n",
    "        self.next_input = None\n",
    "        self.previous_reward = None\n",
    "    \n",
    "    def interconnect(self):\n",
    "        self.weight_matrix = numpy.zeros_like(self.weight_matrix)\n",
    "        probabilities = numpy.vectorize(lambda i, j: 1 / abs(i - j) if i != j else 0.)(*numpy.meshgrid(range(self.specification['inter_neurons']), range(self.specification['inter_neurons'])))\n",
    "        mask = numpy.zeros((self.weight_matrix.shape[0], self.weight_matrix.shape[1]))\n",
    "        mask[:-self.specification['output_neurons'], self.specification['input_neurons']:] = numpy.random.binomial(1, probabilities, (self.specification['inter_neurons'], self.specification['inter_neurons']))\n",
    "        mask[:self.specification['inter_neurons'], :self.specification['input_neurons']] = numpy.eye(self.specification['inter_neurons'])[numpy.random.choice(self.specification['inter_neurons'], self.specification['input_neurons'])].swapaxes(0, 1)\n",
    "        mask[self.specification['inter_neurons']:, self.specification['input_neurons']:] = numpy.eye(self.specification['inter_neurons'])[numpy.random.choice(self.specification['inter_neurons'], self.specification['output_neurons'])]\n",
    "        rand1 = numpy.random.uniform(0, 1, (self.weight_matrix.shape[0], self.weight_matrix.shape[1]))\n",
    "        rand1[:-self.specification['output_neurons'], self.specification['input_neurons']:] = rand1[:-self.specification['output_neurons'], self.specification['input_neurons']:] * 2 - 1\n",
    "        rand2 = numpy.random.uniform(0, 1, (self.weight_matrix.shape[0], self.weight_matrix.shape[1]))\n",
    "        self.weight_matrix = mask * rand1 * rand2 * self.weight_mask\n",
    "        self.weight_backup = self.weight_matrix.copy()\n",
    "#         self.sign_matrix = numpy.sign(self.weight_matrix)\n",
    "    \n",
    "    def load_weights(self, weights):\n",
    "        self.weight_matrix[:, :] = weights\n",
    "        self.sign_matrix[:, :] = numpy.sign(self.weight_matrix)\n",
    "    \n",
    "    def close(self):\n",
    "        self.specification['environment'].close()\n",
    "        \n",
    "    def reset(self):\n",
    "        self.next_input = self.specification['environment'].reset()\n",
    "        self.potential_matrix = numpy.zeros_like(self.potential_matrix)\n",
    "        self.weight_matrix = self.weight_backup\n",
    "        self.history_matrix = numpy.zeros_like(self.history_matrix)\n",
    "        return self.history_matrix.flatten()\n",
    "    \n",
    "    def render(self, mode='human'):\n",
    "        return self.specification['environment'].render(mode)\n",
    "    \n",
    "    def seed(self, seed):\n",
    "        numpy.random.seed(seed)\n",
    "        self.random_seed = seed\n",
    "        return self.specification['environment'].seed(self.random_seed)\n",
    "    \n",
    "    def step(self, action):\n",
    "#         self.next_input = np.eye(self.specification['input_neurons'])[np.random.choice(self.specification['input_neurons'], 1)]\n",
    "        if self.specification['neuroplasticity']:\n",
    "            action = action.reshape((self.specification['inter_neurons'] + self.specification['output_neurons'], 2 * (self.specification['input_neurons'] + self.specification['inter_neurons'])))\n",
    "            action[self.specification['input_neurons'] + self.specification['inter_neurons']:] = numpy.round(sigmoid(action[self.specification['input_neurons'] + self.specification['inter_neurons']:]))\n",
    "            action[:self.specification['input_neurons'] + self.specification['inter_neurons']] = numpy.tanh(action[:self.specification['input_neurons'] + self.specification['inter_neurons']])\n",
    "            self.weight_matrix += self.specification['learning_rate'] * action[:, self.specification['input_neurons'] + self.specification['inter_neurons']:] * action[:, :self.specification['input_neurons'] + self.specification['inter_neurons']]\n",
    "            self.weight_matrix = numpy.clip(numpy.multiply(self.weight_matrix, self.weight_mask), -1, 1)\n",
    "#         state = numpy.zeros_like(self.history_matrix[self.neuron_idx, :])\n",
    "#         reward = 0\n",
    "#         terminal = False\n",
    "        self.potential_matrix[:self.specification['input_neurons']] = numpy.add(self.potential_matrix[:self.specification['input_neurons']], self.next_input)\n",
    "        firing_matrix = numpy.vectorize(lambda x: x >= 1)(self.potential_matrix)\n",
    "        for i in range(self.specification['inter_neurons'] + self.specification['output_neurons']):\n",
    "            pos = self.specification['input_neurons'] + i\n",
    "            deltas = numpy.multiply(firing_matrix[:-self.specification['output_neurons']], self.weight_matrix[i])\n",
    "            delta = numpy.sum(deltas)\n",
    "            if self.specification['neuroplasticity']:\n",
    "                self.history_matrix[i, self.specification['input_neurons'] + self.specification['inter_neurons']:] += 1\n",
    "                self.history_matrix[i, self.specification['input_neurons'] + self.specification['inter_neurons']:-1] *= firing_matrix[:-self.specification['output_neurons']]\n",
    "                self.history_matrix[i, -1] *= firing_matrix[pos]\n",
    "                self.history_matrix[i, :self.specification['input_neurons'] + self.specification['inter_neurons']] = self.weight_matrix[i]\n",
    "#                 self.history_matrix[i, self.weight_idx, self.specification['max_history'] - 1, :] = numpy.array([deltas[self.weight_idx], delta, self.potential_matrix[pos], firing_matrix[pos]])\n",
    "            self.potential_matrix[pos] += delta\n",
    "        self.potential_matrix = numpy.clip(numpy.multiply(self.potential_matrix, numpy.invert(firing_matrix)), -1, 1)\n",
    "#         if self.specification['neuroplasticity']:\n",
    "#             self.history_matrix = numpy.roll(self.history_matrix, 2, axis=1)\n",
    "        state = self.history_matrix.flatten()\n",
    "        self.next_input, reward, terminal, _ = self.specification['environment'].step(firing_matrix[-self.specification['output_neurons']:].astype(int))\n",
    "        return state, reward, terminal, {}"
   ]
  },
  {
   "cell_type": "code",
   "execution_count": 5,
   "metadata": {},
   "outputs": [],
   "source": [
    "class Test(gym.Env):\n",
    "    \n",
    "    def __init__(self):\n",
    "        self.action_space = gym.spaces.Box(0, 1, (8,))\n",
    "        self.observation_space = gym.spaces.Box(0, float('inf'), (8,))\n",
    "\n",
    "    def close(self):\n",
    "        pass\n",
    "\n",
    "    def reset(self):\n",
    "        self.state = numpy.zeros((8,))\n",
    "        self.idx = 0\n",
    "        return self.state\n",
    "\n",
    "    def step(self, action):\n",
    "        self.state = numpy.add(self.state, action)\n",
    "        reward = ((self.state[1] - self.state[0]) * (self.state[2] - self.state[3])) * ((self.state[4] - self.state[5]) * (self.state[6] - self.state[7]))\n",
    "        terminal = reward < 0\n",
    "        self.idx += 1\n",
    "        return numpy.ones(self.state.shape), reward, terminal, {}"
   ]
  },
  {
   "cell_type": "code",
   "execution_count": 32,
   "metadata": {},
   "outputs": [],
   "source": [
    "class Test2(gym.Env):\n",
    "    \n",
    "    def __init__(self):\n",
    "        self.action_space = gym.spaces.Discrete(1)\n",
    "        self.observation_space = gym.spaces.Box(0, 1, (1,))\n",
    "        self.state = None\n",
    "        self.idx = None\n",
    "        self.random_seed = None\n",
    "    \n",
    "    def seed(self, seed):\n",
    "        self.random_seed = seed\n",
    "        random.seed(seed)\n",
    "        return seed\n",
    "    \n",
    "    def close(self):\n",
    "        pass\n",
    "    \n",
    "    def reset(self):\n",
    "        self.state = numpy.ones((1,))\n",
    "        self.idx = 0\n",
    "        return self.state\n",
    "    \n",
    "    def step(self, action):\n",
    "        self.idx += 1\n",
    "        terminal = self.idx == 10000\n",
    "        if action[0] == 1:\n",
    "            reward = 1.0\n",
    "        else:\n",
    "            reward = 0.0\n",
    "        return self.state, reward, terminal, {}"
   ]
  },
  {
   "cell_type": "code",
   "execution_count": null,
   "metadata": {},
   "outputs": [],
   "source": []
  },
  {
   "cell_type": "code",
   "execution_count": null,
   "metadata": {},
   "outputs": [],
   "source": []
  },
  {
   "cell_type": "code",
   "execution_count": null,
   "metadata": {},
   "outputs": [],
   "source": []
  },
  {
   "cell_type": "code",
   "execution_count": null,
   "metadata": {},
   "outputs": [],
   "source": []
  },
  {
   "cell_type": "code",
   "execution_count": null,
   "metadata": {
    "scrolled": true
   },
   "outputs": [],
   "source": []
  },
  {
   "cell_type": "code",
   "execution_count": null,
   "metadata": {},
   "outputs": [],
   "source": [
    "env = SNN({'environment': Test2(), 'input_neurons': 1, 'inter_neurons': 10, 'output_neurons': 1,  'neuroplasticity': True, 'learning_rate': 0.1})\n",
    "numpy.random.seed(0)\n",
    "env.seed(0)\n",
    "env.interconnect()\n",
    "env.reset()"
   ]
  },
  {
   "cell_type": "code",
   "execution_count": null,
   "metadata": {
    "scrolled": true
   },
   "outputs": [],
   "source": [
    "skimage.io.imshow(env.weight_matrix)"
   ]
  },
  {
   "cell_type": "code",
   "execution_count": null,
   "metadata": {},
   "outputs": [],
   "source": [
    "action = numpy.zeros(11 * (2 * 11))"
   ]
  },
  {
   "cell_type": "code",
   "execution_count": null,
   "metadata": {},
   "outputs": [],
   "source": [
    "for i in range(1):\n",
    "    stuff = env.step(action)"
   ]
  },
  {
   "cell_type": "code",
   "execution_count": null,
   "metadata": {
    "scrolled": true
   },
   "outputs": [],
   "source": [
    "skimage.io.imshow(env.potential_matrix.reshape((3, 4)))"
   ]
  },
  {
   "cell_type": "code",
   "execution_count": null,
   "metadata": {},
   "outputs": [],
   "source": [
    "gym.undo_logger_setup()"
   ]
  },
  {
   "cell_type": "code",
   "execution_count": null,
   "metadata": {},
   "outputs": [],
   "source": [
    "input_neurons = 1\n",
    "inter_neurons = 10\n",
    "output_neurons = 1"
   ]
  },
  {
   "cell_type": "code",
   "execution_count": null,
   "metadata": {},
   "outputs": [],
   "source": [
    "neurons = input_neurons + inter_neurons + output_neurons"
   ]
  },
  {
   "cell_type": "code",
   "execution_count": null,
   "metadata": {},
   "outputs": [],
   "source": [
    "from keras.models import Sequential, Model\n",
    "from keras.layers import Dense, Activation, Flatten, Input, Concatenate\n",
    "from keras.optimizers import Adam\n",
    "\n",
    "from rl.agents import NAFAgent\n",
    "from rl.memory import SequentialMemory\n",
    "from rl.random import OrnsteinUhlenbeckProcess\n",
    "from rl.core import Processor"
   ]
  },
  {
   "cell_type": "code",
   "execution_count": null,
   "metadata": {},
   "outputs": [],
   "source": [
    "# Get the environment and extract the number of actions.\n",
    "env = SNN({\n",
    "    'environment': Test2(),\n",
    "    'input_neurons': input_neurons,\n",
    "    'inter_neurons': inter_neurons,\n",
    "    'output_neurons': output_neurons,\n",
    "    'neuroplasticity': True,\n",
    "    'learning_rate': 0.1})\n",
    "numpy.random.seed(0)\n",
    "env.seed(0)\n",
    "assert len(env.action_space.shape) == 1\n",
    "nb_actions = env.action_space.shape[0]"
   ]
  },
  {
   "cell_type": "code",
   "execution_count": null,
   "metadata": {},
   "outputs": [],
   "source": [
    "(1,) + env.observation_space.shape"
   ]
  },
  {
   "cell_type": "code",
   "execution_count": null,
   "metadata": {},
   "outputs": [],
   "source": [
    "nb_actions"
   ]
  },
  {
   "cell_type": "code",
   "execution_count": null,
   "metadata": {},
   "outputs": [],
   "source": [
    "# Build all necessary models: V, mu, and L networks.\n",
    "V_model = Sequential()\n",
    "V_model.add(Reshape(input_shape=(1,) + env.observation_space.shape, target_shape=(inter_neurons + output_neurons, 1 + 2 * (input_neurons + inter_neurons))))\n",
    "V_model.add(TimeDistributed(Dense(neurons, activation='relu')))\n",
    "V_model.add(TimeDistributed(Dense(neurons, activation='relu')))\n",
    "V_model.add(TimeDistributed(Dense(neurons, activation='relu')))\n",
    "V_model.add(Flatten())\n",
    "V_model.add(Dense(1, activation='linear'))\n",
    "print(V_model.summary())\n",
    "\n",
    "mu_model = Sequential()\n",
    "mu_model.add(Reshape(input_shape=(1,) + env.observation_space.shape, target_shape=(inter_neurons + output_neurons, 1 + 2 * (input_neurons + inter_neurons))))\n",
    "mu_model.add(TimeDistributed(Dense(neurons, activation='relu')))\n",
    "mu_model.add(TimeDistributed(Dense(neurons, activation='relu')))\n",
    "mu_model.add(TimeDistributed(Dense(neurons, activation='relu')))\n",
    "mu_model.add(TimeDistributed(Dense(2 * (input_neurons + inter_neurons), activation='tanh')))\n",
    "mu_model.add(Flatten())\n",
    "print(mu_model.summary())\n",
    "\n",
    "action_input = Input(shape=(nb_actions,), name='action_input')\n",
    "observation_input = Input(shape=(1,) + env.observation_space.shape, name='observation_input')\n",
    "x = Concatenate()([action_input, Flatten()(observation_input)])\n",
    "x = Dense(2 * neurons, activation='relu')(x)\n",
    "x = Dense(2 * neurons, activation='relu')(x)\n",
    "x = Dense(2 * neurons, activation='relu')(x)\n",
    "x = Dense(((nb_actions * nb_actions + nb_actions) // 2))(x)\n",
    "x = Activation('linear')(x)\n",
    "L_model = Model(inputs=[action_input, observation_input], outputs=x)\n",
    "print(L_model.summary())"
   ]
  },
  {
   "cell_type": "code",
   "execution_count": null,
   "metadata": {},
   "outputs": [],
   "source": [
    "# Finally, we configure and compile our agent. You can use every built-in Keras optimizer and\n",
    "# even the metrics!\n",
    "memory = SequentialMemory(limit=100000, window_length=1)\n",
    "random_process = OrnsteinUhlenbeckProcess(theta=.15, mu=0., sigma=.3, size=nb_actions)\n",
    "agent = NAFAgent(nb_actions=nb_actions, V_model=V_model, L_model=L_model, mu_model=mu_model,\n",
    "                 memory=memory, nb_steps_warmup=100, random_process=random_process,\n",
    "                 gamma=.99, target_model_update=1e-3, processor=None)\n",
    "agent.compile(Adam(lr=.001, clipnorm=1.), metrics=['mae'])"
   ]
  },
  {
   "cell_type": "code",
   "execution_count": null,
   "metadata": {},
   "outputs": [],
   "source": [
    "# Okay, now it's time to learn something! We visualize the training here for show, but this\n",
    "# slows down training quite a lot. You can always safely abort the training prematurely using\n",
    "# Ctrl + C.\n",
    "agent.fit(env, nb_steps=50000, visualize=False, verbose=2, nb_max_episode_steps=200)"
   ]
  },
  {
   "cell_type": "code",
   "execution_count": null,
   "metadata": {},
   "outputs": [],
   "source": [
    "env.weight_matrix"
   ]
  },
  {
   "cell_type": "code",
   "execution_count": null,
   "metadata": {},
   "outputs": [],
   "source": [
    "# After training is done, we save the final weights.\n",
    "# agent.save_weights('cdqn_{}_weights.h5f'.format(ENV_NAME), overwrite=True)\n",
    "\n",
    "# Finally, evaluate our algorithm for 5 episodes.\n",
    "agent.test(env, nb_episodes=10, visualize=False, nb_max_episode_steps=200)"
   ]
  },
  {
   "cell_type": "code",
   "execution_count": 13,
   "metadata": {},
   "outputs": [],
   "source": [
    "input_neurons = 1\n",
    "inter_neurons = 10\n",
    "output_neurons = 1\n",
    "neurons = input_neurons + inter_neurons + output_neurons"
   ]
  },
  {
   "cell_type": "code",
   "execution_count": 7,
   "metadata": {},
   "outputs": [],
   "source": [
    "import numpy as np\n",
    "import gym\n",
    "\n",
    "from keras.models import Sequential, Model\n",
    "from keras.layers import Dense, Activation, Flatten, Input, Concatenate\n",
    "from keras.optimizers import Adam\n",
    "\n",
    "from rl.agents import DDPGAgent\n",
    "from rl.memory import SequentialMemory\n",
    "from rl.random import OrnsteinUhlenbeckProcess"
   ]
  },
  {
   "cell_type": "code",
   "execution_count": 8,
   "metadata": {},
   "outputs": [
    {
     "name": "stderr",
     "output_type": "stream",
     "text": [
      "/usr/local/lib/python3.6/dist-packages/gym/__init__.py:15: UserWarning: gym.undo_logger_setup is deprecated. gym no longer modifies the global logging configuration\n",
      "  warnings.warn(\"gym.undo_logger_setup is deprecated. gym no longer modifies the global logging configuration\")\n"
     ]
    }
   ],
   "source": [
    "gym.undo_logger_setup()"
   ]
  },
  {
   "cell_type": "code",
   "execution_count": 42,
   "metadata": {},
   "outputs": [
    {
     "name": "stdout",
     "output_type": "stream",
     "text": [
      "\u001b[33mWARN: gym.spaces.Box autodetected dtype as <class 'numpy.float32'>. Please provide explicit dtype.\u001b[0m\n"
     ]
    }
   ],
   "source": [
    "# Get the environment and extract the number of actions.\n",
    "env = SNN({\n",
    "    'environment': Test2(),\n",
    "    'input_neurons': input_neurons,\n",
    "    'inter_neurons': inter_neurons,\n",
    "    'output_neurons': output_neurons,\n",
    "    'neuroplasticity': True,\n",
    "    'learning_rate': 0.1})\n",
    "np.random.seed(123)\n",
    "env.seed(123)\n",
    "env.interconnect()\n",
    "assert len(env.action_space.shape) == 1\n",
    "nb_actions = env.action_space.shape[0]"
   ]
  },
  {
   "cell_type": "code",
   "execution_count": 43,
   "metadata": {},
   "outputs": [
    {
     "name": "stdout",
     "output_type": "stream",
     "text": [
      "_________________________________________________________________\n",
      "Layer (type)                 Output Shape              Param #   \n",
      "=================================================================\n",
      "reshape_22 (Reshape)         (None, 11, 23)            0         \n",
      "_________________________________________________________________\n",
      "time_distributed_49 (TimeDis (None, 11, 12)            288       \n",
      "_________________________________________________________________\n",
      "time_distributed_50 (TimeDis (None, 11, 12)            156       \n",
      "_________________________________________________________________\n",
      "time_distributed_51 (TimeDis (None, 11, 12)            156       \n",
      "_________________________________________________________________\n",
      "time_distributed_52 (TimeDis (None, 11, 22)            286       \n",
      "_________________________________________________________________\n",
      "flatten_15 (Flatten)         (None, 242)               0         \n",
      "=================================================================\n",
      "Total params: 886\n",
      "Trainable params: 886\n",
      "Non-trainable params: 0\n",
      "_________________________________________________________________\n",
      "None\n",
      "__________________________________________________________________________________________________\n",
      "Layer (type)                    Output Shape         Param #     Connected to                     \n",
      "==================================================================================================\n",
      "action_input (InputLayer)       (None, 242)          0                                            \n",
      "__________________________________________________________________________________________________\n",
      "observation_input (InputLayer)  (None, 1, 253)       0                                            \n",
      "__________________________________________________________________________________________________\n",
      "reshape_23 (Reshape)            (None, 11, 22)       0           action_input[0][0]               \n",
      "__________________________________________________________________________________________________\n",
      "reshape_24 (Reshape)            (None, 11, 23)       0           observation_input[0][0]          \n",
      "__________________________________________________________________________________________________\n",
      "concatenate_8 (Concatenate)     (None, 11, 45)       0           reshape_23[0][0]                 \n",
      "                                                                 reshape_24[0][0]                 \n",
      "__________________________________________________________________________________________________\n",
      "time_distributed_53 (TimeDistri (None, 11, 24)       1104        concatenate_8[0][0]              \n",
      "__________________________________________________________________________________________________\n",
      "time_distributed_54 (TimeDistri (None, 11, 24)       600         time_distributed_53[0][0]        \n",
      "__________________________________________________________________________________________________\n",
      "time_distributed_55 (TimeDistri (None, 11, 24)       600         time_distributed_54[0][0]        \n",
      "__________________________________________________________________________________________________\n",
      "flatten_16 (Flatten)            (None, 264)          0           time_distributed_55[0][0]        \n",
      "__________________________________________________________________________________________________\n",
      "dense_67 (Dense)                (None, 1)            265         flatten_16[0][0]                 \n",
      "==================================================================================================\n",
      "Total params: 2,569\n",
      "Trainable params: 2,569\n",
      "Non-trainable params: 0\n",
      "__________________________________________________________________________________________________\n",
      "None\n"
     ]
    }
   ],
   "source": [
    "# Next, we build a very simple model.\n",
    "actor = Sequential()\n",
    "actor.add(Reshape(input_shape=(1,) + env.observation_space.shape, target_shape=(inter_neurons + output_neurons, 1 + 2 * (input_neurons + inter_neurons))))\n",
    "actor.add(TimeDistributed(Dense(neurons, activation='relu')))\n",
    "actor.add(TimeDistributed(Dense(neurons, activation='relu')))\n",
    "actor.add(TimeDistributed(Dense(neurons, activation='relu')))\n",
    "actor.add(TimeDistributed(Dense(2 * (input_neurons + inter_neurons), activation='tanh')))\n",
    "actor.add(Flatten())\n",
    "print(actor.summary())\n",
    "\n",
    "action_input = Input(shape=(nb_actions,), name='action_input')\n",
    "observation_input = Input(shape=(1,) + env.observation_space.shape, name='observation_input')\n",
    "reshaped_action = Reshape((inter_neurons + output_neurons, 2 * (input_neurons + inter_neurons)))(action_input)\n",
    "reshaped_observation = Reshape((inter_neurons + output_neurons, 1 + 2 * (input_neurons + inter_neurons)))(observation_input)\n",
    "x = Concatenate()([reshaped_action, reshaped_observation])\n",
    "x = TimeDistributed(Dense(2 * neurons, activation='relu'))(x)\n",
    "x = TimeDistributed(Dense(2 * neurons, activation='relu'))(x)\n",
    "x = TimeDistributed(Dense(2 * neurons, activation='relu'))(x)\n",
    "x = Flatten()(x)\n",
    "x = Dense(1, activation='linear')(x)\n",
    "critic = Model(inputs=[action_input, observation_input], outputs=x)\n",
    "print(critic.summary())"
   ]
  },
  {
   "cell_type": "code",
   "execution_count": 44,
   "metadata": {},
   "outputs": [],
   "source": [
    "# Finally, we configure and compile our agent. You can use every built-in Keras optimizer and\n",
    "# even the metrics!\n",
    "memory = SequentialMemory(limit=100000, window_length=1)\n",
    "random_process = OrnsteinUhlenbeckProcess(size=nb_actions, theta=.15, mu=0., sigma=.3)\n",
    "agent = DDPGAgent(nb_actions=nb_actions, actor=actor, critic=critic, critic_action_input=action_input,\n",
    "                  memory=memory, nb_steps_warmup_critic=100, nb_steps_warmup_actor=100,\n",
    "                  random_process=random_process, gamma=.99, target_model_update=1e-3)\n",
    "agent.compile(Adam(lr=.001, clipnorm=1.), metrics=['mae'])"
   ]
  },
  {
   "cell_type": "code",
   "execution_count": 45,
   "metadata": {},
   "outputs": [
    {
     "name": "stdout",
     "output_type": "stream",
     "text": [
      "Training for 50000 steps ...\n",
      "Interval 1 (0 steps performed)\n",
      "10000/10000 [==============================] - 86s 9ms/step - reward: 0.2371\n",
      "50 episodes - episode_reward: 47.420 [0.000, 92.000] - loss: 1.730 - mean_absolute_error: 0.449 - mean_q: -11.083\n",
      "\n",
      "Interval 2 (10000 steps performed)\n",
      "10000/10000 [==============================] - 85s 8ms/step - reward: 0.4001\n",
      "50 episodes - episode_reward: 80.020 [18.000, 93.000] - loss: 1.709 - mean_absolute_error: 0.643 - mean_q: 19.343\n",
      "\n",
      "Interval 3 (20000 steps performed)\n",
      "10000/10000 [==============================] - 84s 8ms/step - reward: 0.4229\n",
      "50 episodes - episode_reward: 84.580 [54.000, 99.000] - loss: 30.146 - mean_absolute_error: 1.708 - mean_q: 90.070\n",
      "\n",
      "Interval 4 (30000 steps performed)\n",
      "  567/10000 [>.............................] - ETA: 1:21 - reward: 0.4832done, took 259.931 seconds\n"
     ]
    },
    {
     "data": {
      "text/plain": [
       "<keras.callbacks.History at 0x7f745327e4e0>"
      ]
     },
     "execution_count": 45,
     "metadata": {},
     "output_type": "execute_result"
    }
   ],
   "source": [
    "# Okay, now it's time to learn something! We visualize the training here for show, but this\n",
    "# slows down training quite a lot. You can always safely abort the training prematurely using\n",
    "# Ctrl + C.\n",
    "agent.fit(env, nb_steps=50000, visualize=False, verbose=1, nb_max_episode_steps=200)"
   ]
  },
  {
   "cell_type": "code",
   "execution_count": null,
   "metadata": {},
   "outputs": [],
   "source": [
    "# After training is done, we save the final weights.\n",
    "# agent.save_weights('ddpg_{}_weights.h5f'.format(ENV_NAME), overwrite=True)\n",
    "\n",
    "# Finally, evaluate our algorithm for 5 episodes.\n",
    "agent.test(env, nb_episodes=5, visualize=True, nb_max_episode_steps=200)"
   ]
  },
  {
   "cell_type": "code",
   "execution_count": 40,
   "metadata": {},
   "outputs": [
    {
     "data": {
      "text/plain": [
       "array([[-1.        , -0.        ,  1.        , -1.        , -1.        ,\n",
       "         1.        , -1.        , -1.        , -0.35841848,  1.        ,\n",
       "         1.        ],\n",
       "       [-1.        , -1.        ,  0.        , -0.99418762, -1.        ,\n",
       "         1.        , -1.        , -1.        , -0.00848113,  1.        ,\n",
       "         1.        ],\n",
       "       [-1.        , -1.        ,  1.        , -0.        , -1.        ,\n",
       "         1.        , -1.        , -1.        ,  0.08202426,  1.        ,\n",
       "         1.        ],\n",
       "       [-1.        , -1.        ,  1.        , -0.69117713, -0.        ,\n",
       "         1.        , -1.        , -1.        ,  0.3561765 ,  1.        ,\n",
       "         1.        ],\n",
       "       [-1.        , -1.        ,  1.        , -1.        , -1.        ,\n",
       "         0.        , -1.        , -1.        ,  0.3951716 ,  1.        ,\n",
       "         1.        ],\n",
       "       [-1.        , -1.        ,  1.        , -0.99180608, -1.        ,\n",
       "         1.        , -0.        , -1.        , -0.16146544,  1.        ,\n",
       "         1.        ],\n",
       "       [-1.        , -1.        ,  1.        , -1.        , -1.        ,\n",
       "         1.        , -1.        , -0.        ,  0.06514067,  1.        ,\n",
       "         1.        ],\n",
       "       [-1.        , -1.        ,  1.        ,  0.34474358, -1.        ,\n",
       "         1.        , -1.        , -1.        , -0.        ,  1.        ,\n",
       "         1.        ],\n",
       "       [-1.        , -1.        ,  1.        , -0.9235322 , -1.        ,\n",
       "         1.        , -1.        , -1.        ,  0.47002546,  0.        ,\n",
       "         1.        ],\n",
       "       [-1.        , -1.        ,  1.        , -1.        , -1.        ,\n",
       "         1.        , -1.        , -1.        ,  0.20953583,  1.        ,\n",
       "         0.        ],\n",
       "       [-0.        , -1.        ,  1.        , -0.29325079, -1.        ,\n",
       "         1.        , -1.        , -1.        ,  0.35457549,  1.        ,\n",
       "         1.        ]])"
      ]
     },
     "execution_count": 40,
     "metadata": {},
     "output_type": "execute_result"
    }
   ],
   "source": [
    "env.weight_matrix"
   ]
  },
  {
   "cell_type": "code",
   "execution_count": null,
   "metadata": {},
   "outputs": [],
   "source": []
  },
  {
   "cell_type": "code",
   "execution_count": null,
   "metadata": {
    "scrolled": false
   },
   "outputs": [],
   "source": []
  },
  {
   "cell_type": "code",
   "execution_count": null,
   "metadata": {
    "scrolled": true
   },
   "outputs": [],
   "source": []
  },
  {
   "cell_type": "code",
   "execution_count": null,
   "metadata": {},
   "outputs": [],
   "source": []
  },
  {
   "cell_type": "code",
   "execution_count": null,
   "metadata": {},
   "outputs": [],
   "source": []
  },
  {
   "cell_type": "code",
   "execution_count": null,
   "metadata": {},
   "outputs": [],
   "source": []
  },
  {
   "cell_type": "code",
   "execution_count": null,
   "metadata": {},
   "outputs": [],
   "source": []
  },
  {
   "cell_type": "code",
   "execution_count": null,
   "metadata": {},
   "outputs": [],
   "source": []
  },
  {
   "cell_type": "code",
   "execution_count": null,
   "metadata": {},
   "outputs": [],
   "source": []
  },
  {
   "cell_type": "code",
   "execution_count": null,
   "metadata": {},
   "outputs": [],
   "source": []
  },
  {
   "cell_type": "code",
   "execution_count": null,
   "metadata": {},
   "outputs": [],
   "source": []
  },
  {
   "cell_type": "code",
   "execution_count": null,
   "metadata": {},
   "outputs": [],
   "source": []
  },
  {
   "cell_type": "code",
   "execution_count": null,
   "metadata": {},
   "outputs": [],
   "source": []
  },
  {
   "cell_type": "code",
   "execution_count": null,
   "metadata": {},
   "outputs": [],
   "source": []
  },
  {
   "cell_type": "code",
   "execution_count": null,
   "metadata": {},
   "outputs": [],
   "source": []
  },
  {
   "cell_type": "code",
   "execution_count": null,
   "metadata": {},
   "outputs": [],
   "source": []
  },
  {
   "cell_type": "code",
   "execution_count": null,
   "metadata": {},
   "outputs": [],
   "source": []
  }
 ],
 "metadata": {
  "kernelspec": {
   "display_name": "Python 3",
   "language": "python",
   "name": "python3"
  },
  "language_info": {
   "codemirror_mode": {
    "name": "ipython",
    "version": 3
   },
   "file_extension": ".py",
   "mimetype": "text/x-python",
   "name": "python",
   "nbconvert_exporter": "python",
   "pygments_lexer": "ipython3",
   "version": "3.6.5"
  }
 },
 "nbformat": 4,
 "nbformat_minor": 2
}
