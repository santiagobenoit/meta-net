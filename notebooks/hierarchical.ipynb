{
 "cells": [
  {
   "cell_type": "code",
   "execution_count": 1,
   "metadata": {},
   "outputs": [
    {
     "data": {
      "text/html": [
       "<style>.container { width:100% !important; }</style>"
      ],
      "text/plain": [
       "<IPython.core.display.HTML object>"
      ]
     },
     "metadata": {},
     "output_type": "display_data"
    }
   ],
   "source": [
    "from IPython.core.display import display, HTML\n",
    "display(HTML(\"<style>.container { width:100% !important; }</style>\"))"
   ]
  },
  {
   "cell_type": "code",
   "execution_count": 2,
   "metadata": {},
   "outputs": [],
   "source": [
    "%matplotlib inline"
   ]
  },
  {
   "cell_type": "code",
   "execution_count": 3,
   "metadata": {},
   "outputs": [
    {
     "name": "stderr",
     "output_type": "stream",
     "text": [
      "Using TensorFlow backend.\n",
      "/usr/lib/python3.6/importlib/_bootstrap.py:219: RuntimeWarning: numpy.dtype size changed, may indicate binary incompatibility. Expected 96, got 88\n",
      "  return f(*args, **kwds)\n"
     ]
    }
   ],
   "source": [
    "import keras\n",
    "import rl\n",
    "import gym\n",
    "import numpy\n",
    "import skimage.io\n",
    "import matplotlib.pyplot as plt"
   ]
  },
  {
   "cell_type": "code",
   "execution_count": null,
   "metadata": {},
   "outputs": [],
   "source": [
    "class Test(gym.Env):\n",
    "    \n",
    "    def __init__(self, neurons, neuron_updates, weight_updates):\n",
    "        self.neurons = neurons\n",
    "        self.neuron_updates = neuron_updates\n",
    "        self.weight_updates = weight_updates\n",
    "        self.action_space = gym.spaces.Dict({\n",
    "            \"neurons\": gym.spaces.MultiDiscrete(neuron_updates * [neurons]),\n",
    "            \"weights\": gym.spaces.Tuple(neuron_updates * (gym.spaces.MultiDiscrete(weight_updates * [neurons]),)),\n",
    "            \"deltas\": gym.spaces.Box(-numpy.inf, numpy.inf, (neuron_updates, weight_updates), dtype=float)\n",
    "        })\n",
    "        self.observation_space = gym.spaces.Box(-1, 1, (neurons, neurons), dtype=float)\n",
    "        self.state = numpy.zeros((neurons, neurons), dtype=float)\n",
    "        self.random_seed = None\n",
    "    \n",
    "    def seed(self, seed):\n",
    "        self.random_seed = seed\n",
    "        numpy.random.seed(seed)\n",
    "        return seed\n",
    "    \n",
    "    def close(self):\n",
    "        pass\n",
    "    \n",
    "    def reset(self):\n",
    "        self.state[:] = 0\n",
    "        return self.state\n",
    "    \n",
    "    def step(self, action):\n",
    "        for n in range(self.neuron_updates):\n",
    "            for w in range(self.weight_updates):\n",
    "                self.state[action[\"neurons\"][n], action[\"weights\"][n, w]] += action[\"deltas\"][n, w]\n",
    "        reward = numpy.linalg.det(self.state)\n",
    "        terminal = reward < 0\n",
    "        return self.state, reward, terminal, {}"
   ]
  },
  {
   "cell_type": "code",
   "execution_count": null,
   "metadata": {},
   "outputs": [],
   "source": [
    "N = 10\n",
    "NU = 10\n",
    "WU = 10"
   ]
  },
  {
   "cell_type": "code",
   "execution_count": null,
   "metadata": {},
   "outputs": [],
   "source": [
    "test = Test(N, NU, WU)"
   ]
  },
  {
   "cell_type": "code",
   "execution_count": null,
   "metadata": {},
   "outputs": [],
   "source": [
    "test.reset()"
   ]
  },
  {
   "cell_type": "code",
   "execution_count": null,
   "metadata": {},
   "outputs": [],
   "source": [
    "for i in range(1):\n",
    "    action = {\n",
    "        \"neurons\": numpy.random.randint(0, N, NU),\n",
    "        \"weights\": numpy.random.randint(0, N, (NU, WU)),\n",
    "        \"deltas\": numpy.random.uniform(-1, 1, (NU, WU))\n",
    "    }\n",
    "    state, reward, terminal, _ = test.step(action)\n",
    "    plt.figure()\n",
    "    plt.imshow(state)\n",
    "    print(reward)\n",
    "    if terminal:\n",
    "        test.reset()"
   ]
  },
  {
   "cell_type": "code",
   "execution_count": null,
   "metadata": {},
   "outputs": [],
   "source": []
  },
  {
   "cell_type": "code",
   "execution_count": null,
   "metadata": {},
   "outputs": [],
   "source": [
    "# state_input = keras.layers.Input((N * N,))\n",
    "# x = keras.layers.Dense(N * N, activation='relu')(state_input)\n",
    "# x = keras.layers.Dense(N * N, activation='relu')(x)\n",
    "# x = keras.layers.Dense(N * N, activation='relu')(x)\n",
    "# weight_output = keras.layers.Dense(N * N, activation='linear')(x)\n",
    "# weight_model = keras.models.Model(state_input, weight_output)\n",
    "# weight_model.summary()"
   ]
  },
  {
   "cell_type": "code",
   "execution_count": 4,
   "metadata": {},
   "outputs": [],
   "source": [
    "def build_choice_model(neurons):\n",
    "    input_layer = keras.layers.Input((neurons ** 2,), name='state_input')\n",
    "    x = keras.layers.Dense(neurons ** 2, activation='relu')(input_layer)\n",
    "    x = keras.layers.Dense(neurons ** 2, activation='relu')(x)\n",
    "    x = keras.layers.Dense(neurons ** 2, activation='relu')(x)\n",
    "    choice_output = keras.layers.Dense(neurons ** 2, activation='linear', name='choice_output')(x)\n",
    "    choice_model = keras.models.Model(input_layer, choice_output, name='choice_model')\n",
    "    return choice_model"
   ]
  },
  {
   "cell_type": "code",
   "execution_count": 5,
   "metadata": {},
   "outputs": [],
   "source": [
    "def build_delta_model(neurons):\n",
    "    input_layers = [keras.layers.Input((neurons ** 2,), name='state_input'), keras.layers.Input((neurons ** 2,), name='choice_output')]\n",
    "    x = keras.layers.Multiply()(input_layers)\n",
    "    x = keras.layers.Dense(neurons ** 2, activation='relu')(x)\n",
    "    x = keras.layers.Dense(neurons ** 2, activation='relu')(x)\n",
    "    x = keras.layers.Dense(neurons ** 2, activation='relu')(x)\n",
    "    delta_output = keras.layers.Dense(1, activation='linear', name='delta_output')(x)\n",
    "    delta_model = keras.models.Model(input_layers, delta_output, name='delta_model')\n",
    "    return delta_model"
   ]
  },
  {
   "cell_type": "code",
   "execution_count": 6,
   "metadata": {},
   "outputs": [],
   "source": [
    "N = 10\n",
    "U = 1"
   ]
  },
  {
   "cell_type": "code",
   "execution_count": 19,
   "metadata": {},
   "outputs": [],
   "source": [
    "choice_model = build_choice_model(N)\n",
    "delta_model = build_delta_model(N)\n",
    "delta_tensor = delta_model([choice_model.input, choice_model.output])\n",
    "combined_model = keras.models.Model(choice_model.input, [choice_model.output, delta_tensor])"
   ]
  },
  {
   "cell_type": "code",
   "execution_count": null,
   "metadata": {},
   "outputs": [],
   "source": [
    "# state_input = keras.layers.Input((N ** 2,), name='state_input')\n",
    "# choice_tensor = build_choice_model(N)(state_input)\n",
    "# choice_model = keras.models.Model(state_input, choice_tensor)\n",
    "# delta_model = build_delta_model(N)\n",
    "# delta_tensor = delta_model([state_input, choice_model.output])\n",
    "# combined_model = keras.models.Model(choice_model.input, delta_tensor)"
   ]
  },
  {
   "cell_type": "code",
   "execution_count": 20,
   "metadata": {},
   "outputs": [
    {
     "name": "stdout",
     "output_type": "stream",
     "text": [
      "_________________________________________________________________\n",
      "Layer (type)                 Output Shape              Param #   \n",
      "=================================================================\n",
      "state_input (InputLayer)     (None, 100)               0         \n",
      "_________________________________________________________________\n",
      "dense_37 (Dense)             (None, 100)               10100     \n",
      "_________________________________________________________________\n",
      "dense_38 (Dense)             (None, 100)               10100     \n",
      "_________________________________________________________________\n",
      "dense_39 (Dense)             (None, 100)               10100     \n",
      "_________________________________________________________________\n",
      "choice_output (Dense)        (None, 100)               10100     \n",
      "=================================================================\n",
      "Total params: 40,400\n",
      "Trainable params: 40,400\n",
      "Non-trainable params: 0\n",
      "_________________________________________________________________\n"
     ]
    }
   ],
   "source": [
    "choice_model.summary()"
   ]
  },
  {
   "cell_type": "code",
   "execution_count": 21,
   "metadata": {},
   "outputs": [
    {
     "name": "stdout",
     "output_type": "stream",
     "text": [
      "__________________________________________________________________________________________________\n",
      "Layer (type)                    Output Shape         Param #     Connected to                     \n",
      "==================================================================================================\n",
      "state_input (InputLayer)        (None, 100)          0                                            \n",
      "__________________________________________________________________________________________________\n",
      "choice_output (InputLayer)      (None, 100)          0                                            \n",
      "__________________________________________________________________________________________________\n",
      "multiply_7 (Multiply)           (None, 100)          0           state_input[0][0]                \n",
      "                                                                 choice_output[0][0]              \n",
      "__________________________________________________________________________________________________\n",
      "dense_40 (Dense)                (None, 100)          10100       multiply_7[0][0]                 \n",
      "__________________________________________________________________________________________________\n",
      "dense_41 (Dense)                (None, 100)          10100       dense_40[0][0]                   \n",
      "__________________________________________________________________________________________________\n",
      "dense_42 (Dense)                (None, 100)          10100       dense_41[0][0]                   \n",
      "__________________________________________________________________________________________________\n",
      "delta_output (Dense)            (None, 1)            101         dense_42[0][0]                   \n",
      "==================================================================================================\n",
      "Total params: 30,401\n",
      "Trainable params: 30,401\n",
      "Non-trainable params: 0\n",
      "__________________________________________________________________________________________________\n"
     ]
    }
   ],
   "source": [
    "delta_model.summary()"
   ]
  },
  {
   "cell_type": "code",
   "execution_count": 22,
   "metadata": {},
   "outputs": [
    {
     "name": "stdout",
     "output_type": "stream",
     "text": [
      "__________________________________________________________________________________________________\n",
      "Layer (type)                    Output Shape         Param #     Connected to                     \n",
      "==================================================================================================\n",
      "state_input (InputLayer)        (None, 100)          0                                            \n",
      "__________________________________________________________________________________________________\n",
      "dense_37 (Dense)                (None, 100)          10100       state_input[0][0]                \n",
      "__________________________________________________________________________________________________\n",
      "dense_38 (Dense)                (None, 100)          10100       dense_37[0][0]                   \n",
      "__________________________________________________________________________________________________\n",
      "dense_39 (Dense)                (None, 100)          10100       dense_38[0][0]                   \n",
      "__________________________________________________________________________________________________\n",
      "choice_output (Dense)           (None, 100)          10100       dense_39[0][0]                   \n",
      "__________________________________________________________________________________________________\n",
      "delta_model (Model)             (None, 1)            30401       state_input[0][0]                \n",
      "                                                                 choice_output[0][0]              \n",
      "==================================================================================================\n",
      "Total params: 70,801\n",
      "Trainable params: 70,801\n",
      "Non-trainable params: 0\n",
      "__________________________________________________________________________________________________\n"
     ]
    }
   ],
   "source": [
    "combined_model.summary()"
   ]
  },
  {
   "cell_type": "code",
   "execution_count": null,
   "metadata": {},
   "outputs": [],
   "source": []
  },
  {
   "cell_type": "code",
   "execution_count": null,
   "metadata": {},
   "outputs": [],
   "source": [
    "# choice_layers = keras.models.Sequential([\n",
    "#     keras.layers.Dense(N ** 2, activation='relu', input_shape=(N ** 2,)),\n",
    "#     keras.layers.Dense(N ** 2, activation='relu'),\n",
    "#     keras.layers.Dense(N ** 2, activation='relu'),\n",
    "#     keras.layers.Dense(N ** 2, activation='linear', name='choice_output')\n",
    "# ])"
   ]
  },
  {
   "cell_type": "code",
   "execution_count": null,
   "metadata": {},
   "outputs": [],
   "source": [
    "# delta_layers = keras.models.Sequential([\n",
    "#     keras.layers.Concatenate(),\n",
    "#     keras.layers.Dense(neurons ** 2, activation='relu')(x),\n",
    "#     keras.layers.Dense(neurons ** 2, activation='relu')(x),\n",
    "#     keras.layers.Dense(neurons ** 2, activation='relu')(x),\n",
    "#     keras.layers.Dense(1, activation='linear', name='delta_output')(x)\n",
    "# ])"
   ]
  },
  {
   "cell_type": "code",
   "execution_count": null,
   "metadata": {},
   "outputs": [],
   "source": [
    "# state_input = keras.layers.Input((N,), name='state_input')\n",
    "# choice_output = build_choice_model(N)\n",
    "# choice_model = keras.models.Model(state_input, choice_output, name='choice_model')\n",
    "# choice_input = keras.layers.Input((N ** 2,), name='choice_input')\n",
    "# delta_output_standalone = build_delta_model([state_input, choice_input], N)\n"
   ]
  },
  {
   "cell_type": "code",
   "execution_count": null,
   "metadata": {},
   "outputs": [],
   "source": []
  }
 ],
 "metadata": {
  "kernelspec": {
   "display_name": "Python 3",
   "language": "python",
   "name": "python3"
  },
  "language_info": {
   "codemirror_mode": {
    "name": "ipython",
    "version": 3
   },
   "file_extension": ".py",
   "mimetype": "text/x-python",
   "name": "python",
   "nbconvert_exporter": "python",
   "pygments_lexer": "ipython3",
   "version": "3.6.7"
  }
 },
 "nbformat": 4,
 "nbformat_minor": 2
}
