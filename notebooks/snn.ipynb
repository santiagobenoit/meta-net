{
 "cells": [
  {
   "cell_type": "code",
   "execution_count": 1,
   "metadata": {},
   "outputs": [],
   "source": [
    "import numpy as np\n",
    "from scipy import sparse\n",
    "import copy"
   ]
  },
  {
   "cell_type": "code",
   "execution_count": 2,
   "metadata": {},
   "outputs": [],
   "source": [
    "class SNN():\n",
    "    \n",
    "    def __init__(self, input_neurons, inter_neurons, output_neurons):\n",
    "        self.input_neurons = input_neurons\n",
    "        self.inter_neurons = inter_neurons\n",
    "        self.output_neurons = output_neurons\n",
    "        self.total_neurons = self.input_neurons + self.inter_neurons + self.output_neurons\n",
    "        self.potentials = np.zeros((self.total_neurons,))\n",
    "        self.weight_matrix = np.zeros((self.inter_neurons + self.output_neurons, self.input_neurons + self.inter_neurons))\n",
    "        self.weight_mask = np.ones_like(self.weight_matrix, dtype=np.uint8)\n",
    "        self.weight_mask[-self.output_neurons:, :self.input_neurons] = 0\n",
    "        np.fill_diagonal(self.weight_mask[:self.inter_neurons, -self.inter_neurons:], 0)\n",
    "        self.random_seed = None\n",
    "    \n",
    "    def interconnect(self, density):\n",
    "        mask = np.random.binomial(1, density, self.weight_matrix.shape)\n",
    "        rand = np.random.uniform(-1, 1, self.weight_matrix.shape)\n",
    "        self.weight_matrix = mask * rand * self.weight_mask\n",
    "#         self.weight_matrix = np.zeros_like(self.weight_matrix)\n",
    "#         probabilities = np.vectorize(lambda i, j: 1 / abs(i - j) if i != j else 0.)(*np.meshgrid(range(self.inter_neurons), range(self.inter_neurons)))\n",
    "#         mask = np.zeros((self.weight_matrix.shape[0], self.weight_matrix.shape[1]))\n",
    "#         mask[:-self.output_neurons, self.input_neurons:] = np.random.binomial(1, probabilities, (self.inter_neurons, self.inter_neurons))\n",
    "#         mask[:self.inter_neurons, :self.input_neurons] = np.eye(self.inter_neurons)[np.random.choice(self.inter_neurons, self.input_neurons)].swapaxes(0, 1)\n",
    "#         mask[self.inter_neurons:, self.input_neurons:] = np.eye(self.inter_neurons)[np.random.choice(self.inter_neurons, self.output_neurons)]\n",
    "#         rand1 = np.random.uniform(0, 1, (self.weight_matrix.shape[0], self.weight_matrix.shape[1]))\n",
    "#         rand1[:-self.output_neurons, self.input_neurons:] = rand1[:-self.output_neurons, self.input_neurons:] * 2 - 1\n",
    "#         rand2 = np.random.uniform(0, 1, (self.weight_matrix.shape[0], self.weight_matrix.shape[1]))\n",
    "#         self.weight_matrix = mask * rand1 * rand2 * self.weight_mask\n",
    "    \n",
    "    def mutate(self, delta_rate, connect_rate, prune_rate):\n",
    "        def mutation(weight, mask):\n",
    "            if mask:\n",
    "                if weight:\n",
    "                    if np.random.binomial(1, prune_rate):\n",
    "#                         print(\"prune\")\n",
    "                        return 0\n",
    "                    elif np.random.binomial(1, delta_rate):\n",
    "#                         print(\"delta\")\n",
    "                        return weight + np.random.uniform(-1, 1)\n",
    "                elif np.random.binomial(1, connect_rate):\n",
    "#                     print(\"connect\")\n",
    "                    return np.random.uniform(-1, 1)\n",
    "            return weight\n",
    "        \n",
    "#         mask = np.random.binomial(1, mutation_rate, self.weight_matrix.shape) * self.weight_mask\n",
    "        self.weight_matrix = np.vectorize(mutation)(self.weight_matrix, self.weight_mask)\n",
    "    \n",
    "    def load_weights(self, weights):\n",
    "        self.weight_matrix[:, :] = weights\n",
    "        \n",
    "    def reset(self):\n",
    "        self.potentials = np.zeros_like(self.potentials)\n",
    "    \n",
    "    def step(self, inputs):\n",
    "        self.potentials[:self.input_neurons] = np.add(self.potentials[:self.input_neurons], inputs)\n",
    "        firing = self.potentials >= 1\n",
    "        outputs = self.potentials[-self.output_neurons:] * firing[-self.output_neurons:]\n",
    "        deltas = np.dot(self.weight_matrix, firing[:-self.output_neurons])\n",
    "        self.potentials[self.input_neurons:] += deltas\n",
    "        self.potentials = np.clip(self.potentials, -1, 1)\n",
    "        self.potentials = np.multiply(self.potentials, np.invert(firing))\n",
    "        return outputs"
   ]
  },
  {
   "cell_type": "code",
   "execution_count": null,
   "metadata": {},
   "outputs": [],
   "source": [
    "snn = SNN(4, 64, 4)"
   ]
  },
  {
   "cell_type": "code",
   "execution_count": null,
   "metadata": {},
   "outputs": [],
   "source": [
    "snn.interconnect(0.1)"
   ]
  },
  {
   "cell_type": "code",
   "execution_count": 29,
   "metadata": {},
   "outputs": [],
   "source": [
    "import skimage.io\n",
    "import skimage.transform"
   ]
  },
  {
   "cell_type": "code",
   "execution_count": null,
   "metadata": {},
   "outputs": [],
   "source": [
    "skimage.io.imshow(snn.weight_matrix)"
   ]
  },
  {
   "cell_type": "code",
   "execution_count": 3,
   "metadata": {},
   "outputs": [],
   "source": [
    "class TestGame():\n",
    "    \n",
    "    def __init__(self):\n",
    "        pass\n",
    "    \n",
    "    def reset(self):\n",
    "        return np.array([1])\n",
    "    \n",
    "    def step(self, action):\n",
    "        state = np.array([1])\n",
    "        reward = action[0]\n",
    "        return state, reward"
   ]
  },
  {
   "cell_type": "code",
   "execution_count": null,
   "metadata": {},
   "outputs": [],
   "source": [
    "class FoodGame():\n",
    "    \n",
    "    def __init__(self):\n",
    "        self.state = np.zeros((10, 10))\n",
    "        self.pos = (0, 0)\n",
    "    \n",
    "    def randomize\n",
    "    \n",
    "    def reset"
   ]
  },
  {
   "cell_type": "code",
   "execution_count": 32,
   "metadata": {},
   "outputs": [],
   "source": [
    "population = [SNN(1, 10, 1) for i in range(100)]"
   ]
  },
  {
   "cell_type": "code",
   "execution_count": 33,
   "metadata": {},
   "outputs": [],
   "source": [
    "environment = TestGame()"
   ]
  },
  {
   "cell_type": "code",
   "execution_count": 34,
   "metadata": {},
   "outputs": [],
   "source": [
    "for snn in population:\n",
    "    snn.interconnect(0.1)"
   ]
  },
  {
   "cell_type": "code",
   "execution_count": 31,
   "metadata": {
    "scrolled": true
   },
   "outputs": [
    {
     "name": "stdout",
     "output_type": "stream",
     "text": [
      "0 500.0\n",
      "1 499.0\n",
      "2 499.0\n",
      "3 499.0\n",
      "4 499.0\n",
      "5 499.0\n",
      "6 499.0\n",
      "7 499.0\n",
      "8 499.0\n",
      "9 499.0\n",
      "10 499.0\n",
      "11 499.0\n",
      "12 499.0\n",
      "13 499.0\n",
      "14 499.0\n",
      "15 499.0\n",
      "16 499.0\n"
     ]
    },
    {
     "ename": "KeyboardInterrupt",
     "evalue": "",
     "output_type": "error",
     "traceback": [
      "\u001b[0;31m---------------------------------------------------------------------------\u001b[0m",
      "\u001b[0;31mKeyboardInterrupt\u001b[0m                         Traceback (most recent call last)",
      "\u001b[0;32m<ipython-input-31-bc92251e4abb>\u001b[0m in \u001b[0;36m<module>\u001b[0;34m()\u001b[0m\n\u001b[1;32m      5\u001b[0m         \u001b[0mstate\u001b[0m \u001b[0;34m=\u001b[0m \u001b[0menvironment\u001b[0m\u001b[0;34m.\u001b[0m\u001b[0mreset\u001b[0m\u001b[0;34m(\u001b[0m\u001b[0;34m)\u001b[0m\u001b[0;34m\u001b[0m\u001b[0;34m\u001b[0m\u001b[0m\n\u001b[1;32m      6\u001b[0m         \u001b[0;32mfor\u001b[0m \u001b[0mj\u001b[0m \u001b[0;32min\u001b[0m \u001b[0mrange\u001b[0m\u001b[0;34m(\u001b[0m\u001b[0;36m1000\u001b[0m\u001b[0;34m)\u001b[0m\u001b[0;34m:\u001b[0m\u001b[0;34m\u001b[0m\u001b[0;34m\u001b[0m\u001b[0m\n\u001b[0;32m----> 7\u001b[0;31m             \u001b[0mstate\u001b[0m\u001b[0;34m,\u001b[0m \u001b[0mreward\u001b[0m \u001b[0;34m=\u001b[0m \u001b[0menvironment\u001b[0m\u001b[0;34m.\u001b[0m\u001b[0mstep\u001b[0m\u001b[0;34m(\u001b[0m\u001b[0msnn\u001b[0m\u001b[0;34m.\u001b[0m\u001b[0mstep\u001b[0m\u001b[0;34m(\u001b[0m\u001b[0mstate\u001b[0m\u001b[0;34m)\u001b[0m\u001b[0;34m)\u001b[0m\u001b[0;34m\u001b[0m\u001b[0;34m\u001b[0m\u001b[0m\n\u001b[0m\u001b[1;32m      8\u001b[0m             \u001b[0mscore\u001b[0m \u001b[0;34m+=\u001b[0m \u001b[0mreward\u001b[0m\u001b[0;34m\u001b[0m\u001b[0;34m\u001b[0m\u001b[0m\n\u001b[1;32m      9\u001b[0m         \u001b[0mranks\u001b[0m\u001b[0;34m.\u001b[0m\u001b[0mappend\u001b[0m\u001b[0;34m(\u001b[0m\u001b[0;34m(\u001b[0m\u001b[0mscore\u001b[0m\u001b[0;34m,\u001b[0m \u001b[0msnn\u001b[0m\u001b[0;34m)\u001b[0m\u001b[0;34m)\u001b[0m\u001b[0;34m\u001b[0m\u001b[0;34m\u001b[0m\u001b[0m\n",
      "\u001b[0;32m<ipython-input-3-fcc3ab46e349>\u001b[0m in \u001b[0;36mstep\u001b[0;34m(self, action)\u001b[0m\n\u001b[1;32m      8\u001b[0m \u001b[0;34m\u001b[0m\u001b[0m\n\u001b[1;32m      9\u001b[0m     \u001b[0;32mdef\u001b[0m \u001b[0mstep\u001b[0m\u001b[0;34m(\u001b[0m\u001b[0mself\u001b[0m\u001b[0;34m,\u001b[0m \u001b[0maction\u001b[0m\u001b[0;34m)\u001b[0m\u001b[0;34m:\u001b[0m\u001b[0;34m\u001b[0m\u001b[0;34m\u001b[0m\u001b[0m\n\u001b[0;32m---> 10\u001b[0;31m         \u001b[0mstate\u001b[0m \u001b[0;34m=\u001b[0m \u001b[0mnp\u001b[0m\u001b[0;34m.\u001b[0m\u001b[0marray\u001b[0m\u001b[0;34m(\u001b[0m\u001b[0;34m[\u001b[0m\u001b[0;36m1\u001b[0m\u001b[0;34m]\u001b[0m\u001b[0;34m)\u001b[0m\u001b[0;34m\u001b[0m\u001b[0;34m\u001b[0m\u001b[0m\n\u001b[0m\u001b[1;32m     11\u001b[0m         \u001b[0mreward\u001b[0m \u001b[0;34m=\u001b[0m \u001b[0maction\u001b[0m\u001b[0;34m[\u001b[0m\u001b[0;36m0\u001b[0m\u001b[0;34m]\u001b[0m\u001b[0;34m\u001b[0m\u001b[0;34m\u001b[0m\u001b[0m\n\u001b[1;32m     12\u001b[0m         \u001b[0;32mreturn\u001b[0m \u001b[0mstate\u001b[0m\u001b[0;34m,\u001b[0m \u001b[0mreward\u001b[0m\u001b[0;34m\u001b[0m\u001b[0;34m\u001b[0m\u001b[0m\n",
      "\u001b[0;31mKeyboardInterrupt\u001b[0m: "
     ]
    }
   ],
   "source": [
    "for i in range(100):\n",
    "    ranks = []\n",
    "    for snn in population:\n",
    "        score = 0\n",
    "        state = environment.reset()\n",
    "        for j in range(1000):\n",
    "            state, reward = environment.step(snn.step(state))\n",
    "            score += reward\n",
    "        ranks.append((score, snn))\n",
    "    ranks = sorted(ranks, key=lambda rank: -rank[0])\n",
    "#     print([elite[0] for elite in ranks[:10]])\n",
    "    print(i, ranks[0][0])\n",
    "    population = [elite[1] for elite in ranks[:10]]\n",
    "    for i in range(10):\n",
    "        snn = population[i]\n",
    "        for i in range(9):\n",
    "            snn.reset()\n",
    "            offspring = copy.deepcopy(snn)\n",
    "            offspring.mutate(0.2, 0.01, 0.1)\n",
    "            population.append(offspring)"
   ]
  },
  {
   "cell_type": "code",
   "execution_count": 28,
   "metadata": {},
   "outputs": [],
   "source": [
    "snn = population[0]"
   ]
  },
  {
   "cell_type": "code",
   "execution_count": 30,
   "metadata": {},
   "outputs": [
    {
     "data": {
      "text/plain": [
       "<matplotlib.image.AxesImage at 0x7fa24c400390>"
      ]
     },
     "execution_count": 30,
     "metadata": {},
     "output_type": "execute_result"
    },
    {
     "data": {
      "image/png": "[encoded data removed]",
      "text/plain": [
       "<Figure size 432x288 with 2 Axes>"
      ]
     },
     "metadata": {},
     "output_type": "display_data"
    }
   ],
   "source": [
    "skimage.io.imshow(snn.weight_matrix)"
   ]
  },
  {
   "cell_type": "code",
   "execution_count": null,
   "metadata": {},
   "outputs": [],
   "source": [
    "snn = SNN(1, 10, 1)"
   ]
  },
  {
   "cell_type": "code",
   "execution_count": null,
   "metadata": {},
   "outputs": [],
   "source": [
    "snn.interconnect(0.1)"
   ]
  },
  {
   "cell_type": "code",
   "execution_count": null,
   "metadata": {},
   "outputs": [],
   "source": [
    "snn.mutate(0.2, 0.01, 0.1)"
   ]
  },
  {
   "cell_type": "code",
   "execution_count": null,
   "metadata": {},
   "outputs": [],
   "source": [
    "for i in range(1000):\n",
    "    print(snn.step([1]))"
   ]
  },
  {
   "cell_type": "code",
   "execution_count": null,
   "metadata": {},
   "outputs": [],
   "source": [
    "snn.potentials"
   ]
  },
  {
   "cell_type": "code",
   "execution_count": null,
   "metadata": {},
   "outputs": [],
   "source": [
    "# x = sparse.rand(100, 100, 0.1, 'csr')"
   ]
  },
  {
   "cell_type": "code",
   "execution_count": null,
   "metadata": {},
   "outputs": [],
   "source": [
    "# skimage.io.imshow(x.todense())"
   ]
  },
  {
   "cell_type": "code",
   "execution_count": null,
   "metadata": {},
   "outputs": [],
   "source": []
  },
  {
   "cell_type": "code",
   "execution_count": null,
   "metadata": {},
   "outputs": [],
   "source": []
  }
 ],
 "metadata": {
  "kernelspec": {
   "display_name": "Python 3",
   "language": "python",
   "name": "python3"
  },
  "language_info": {
   "codemirror_mode": {
    "name": "ipython",
    "version": 3
   },
   "file_extension": ".py",
   "mimetype": "text/x-python",
   "name": "python",
   "nbconvert_exporter": "python",
   "pygments_lexer": "ipython3",
   "version": "3.6.7"
  }
 },
 "nbformat": 4,
 "nbformat_minor": 2
}
