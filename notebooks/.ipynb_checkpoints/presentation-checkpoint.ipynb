{
 "cells": [
  {
   "cell_type": "code",
   "execution_count": 1,
   "metadata": {},
   "outputs": [
    {
     "data": {
      "text/html": [
       "<style>.container { width:100% !important; }</style>"
      ],
      "text/plain": [
       "<IPython.core.display.HTML object>"
      ]
     },
     "metadata": {},
     "output_type": "display_data"
    }
   ],
   "source": [
    "from IPython.core.display import display, HTML\n",
    "display(HTML(\"<style>.container { width:100% !important; }</style>\"))"
   ]
  },
  {
   "cell_type": "code",
   "execution_count": 2,
   "metadata": {},
   "outputs": [
    {
     "name": "stderr",
     "output_type": "stream",
     "text": [
      "/home/santiago/.local/lib/python3.6/site-packages/h5py/__init__.py:36: FutureWarning: Conversion of the second argument of issubdtype from `float` to `np.floating` is deprecated. In future, it will be treated as `np.float64 == np.dtype(float).type`.\n",
      "  from ._conv import register_converters as _register_converters\n",
      "Using TensorFlow backend.\n"
     ]
    }
   ],
   "source": [
    "import random\n",
    "\n",
    "import gym\n",
    "from gym import spaces\n",
    "import keras\n",
    "from keras.layers import *\n",
    "from keras.models import Model\n",
    "import numpy\n",
    "import rl\n",
    "import scipy.sparse\n",
    "import skimage.io\n",
    "\n",
    "%matplotlib inline"
   ]
  },
  {
   "cell_type": "code",
   "execution_count": 149,
   "metadata": {},
   "outputs": [],
   "source": [
    "class SNN(gym.Env):\n",
    "    \n",
    "    def __init__(self, specification):\n",
    "        self.specification = specification\n",
    "#         self.action_space = gym.spaces.Box(-1, 1, (self.specification['inter_neurons'] + self.specification['output_neurons'], self.specification['input_neurons'] + self.specification['inter_neurons']))\n",
    "        self.action_space = gym.spaces.Discrete(3)\n",
    "#         self.observation_space = gym.spaces.Box(-1, 1, (self.specification['inter_neurons'] + self.specification['output_neurons'], self.specification['max_history'], self.specification['input_neurons'] + self.specification['inter_neurons'] + 2))\n",
    "        self.observation_space = gym.spaces.Box(-1, 1, (self.specification['max_history'], 4))\n",
    "        self.potential_matrix = numpy.zeros((self.specification['input_neurons'] + self.specification['inter_neurons'] + self.specification['output_neurons'],))\n",
    "        self.weight_matrix = numpy.zeros((self.specification['inter_neurons'] + self.specification['output_neurons'], self.specification['input_neurons'] + self.specification['inter_neurons']))\n",
    "        self.weight_mask = numpy.ones_like(self.weight_matrix, dtype=numpy.uint8)\n",
    "        self.weight_mask[-self.specification['output_neurons']:, :self.specification['input_neurons']] = 0\n",
    "        numpy.fill_diagonal(self.weight_mask[:self.specification['inter_neurons'], -self.specification['inter_neurons']:], 0)\n",
    "#         self.history_matrix = numpy.zeros((self.specification['inter_neurons'] + self.specification['output_neurons'], self.specification['max_history'], self.specification['input_neurons'] + self.specification['inter_neurons'] + 2))\n",
    "        self.history_matrix = numpy.zeros((self.specification['inter_neurons'] + self.specification['output_neurons'], self.specification['input_neurons'] + self.specification['inter_neurons'], self.specification['max_history'], 4))\n",
    "        self.neuron_idx = 0\n",
    "        self.weight_idx = 0\n",
    "        self.random_seed = None\n",
    "        self.next_input = None\n",
    "        self.previous_reward = None\n",
    "    \n",
    "    def interconnect(self, weight_density):\n",
    "        sparse_matrix = scipy.sparse.random(self.weight_matrix.shape[0], self.weight_matrix.shape[1], density=weight_density, random_state=self.random_seed)\n",
    "        sparse_matrix.data *= 2\n",
    "        sparse_matrix.data -= 1\n",
    "        self.weight_matrix = numpy.multiply(sparse_matrix.toarray(), self.weight_mask)\n",
    "    \n",
    "    def load_weights(self, weights):\n",
    "        pass\n",
    "    \n",
    "    def close(self):\n",
    "        self.specification['environment'].close()\n",
    "        \n",
    "    def reset(self):\n",
    "        self.next_input = self.specification['environment'].reset()\n",
    "#         self.neuron_idx = 0\n",
    "#         self.weight_idx = 0\n",
    "        self.previous_reward = None\n",
    "        self.potential_matrix[:] = 0\n",
    "        if self.specification['neuroplasticity']:\n",
    "            self.history_matrix[:, :, :] = 0\n",
    "        return self.history_matrix[self.neuron_idx, self.weight_idx, :, :]\n",
    "    \n",
    "    def render(self, mode='human'):\n",
    "        return self.specification['environment'].render(mode)\n",
    "    \n",
    "    def seed(self, seed):\n",
    "        self.random_seed = seed\n",
    "        return self.specification['environment'].seed(self.random_seed)\n",
    "    \n",
    "    def step(self, action):\n",
    "        actions = numpy.full_like(self.weight_matrix, action - 1)\n",
    "#         self.neuron_idx += 1\n",
    "#         self.weight_idx += 1\n",
    "#         if self.neuron_idx == self.weight_matrix.shape[0]:\n",
    "#             self.neuron_idx = 0\n",
    "#         if self.weight_idx == self.weight_matrix.shape[1]:\n",
    "#             self.weight_idx = 0\n",
    "#         print(action)\n",
    "#         print(self.neuron_idx, self.weight_idx)\n",
    "        if self.specification['neuroplasticity']:\n",
    "            self.weight_matrix = numpy.clip(numpy.multiply(numpy.add(self.weight_matrix, self.specification['learning_rate'] * actions), self.weight_mask), -1, 1)\n",
    "#             self.weight_matrix[self.neuron_idx, self.weight_idx] += self.specification['learning_rate'] * (action - 1)\n",
    "#             self.weight_matrix = numpy.clip(numpy.multiply(self.weight_matrix, self.weight_mask), -1, 1)\n",
    "#         state = numpy.zeros_like(self.history_matrix[self.neuron_idx, self.weight_idx, :, :])\n",
    "#         reward = 0\n",
    "#         terminal = False\n",
    "#         if self.neuron_idx == 0 and self.weight_idx == 0:\n",
    "        self.potential_matrix[:self.specification['input_neurons']] = numpy.add(self.potential_matrix[:self.specification['input_neurons']], self.next_input)\n",
    "        firing_matrix = numpy.vectorize(lambda x: x >= 1)(self.potential_matrix)\n",
    "        for i in range(self.specification['inter_neurons'] + self.specification['output_neurons']):\n",
    "            pos = self.specification['input_neurons'] + i\n",
    "            deltas = numpy.multiply(firing_matrix[:-self.specification['output_neurons']], self.weight_matrix[i])\n",
    "            delta = numpy.sum(deltas)\n",
    "            if self.specification['neuroplasticity']:\n",
    "                self.history_matrix[i, self.weight_idx, self.specification['max_history'] - 1, :] = numpy.array([deltas[self.weight_idx], delta, self.potential_matrix[pos], firing_matrix[pos]])\n",
    "            self.potential_matrix[pos] += delta\n",
    "        self.potential_matrix = numpy.clip(numpy.multiply(self.potential_matrix, numpy.invert(firing_matrix)), -1, 1)\n",
    "        if self.specification['neuroplasticity']:\n",
    "            self.history_matrix = numpy.roll(self.history_matrix, 2, axis=1)\n",
    "        state = self.history_matrix[self.neuron_idx, self.weight_idx, :, :]\n",
    "        self.next_input, reward, terminal, info = self.specification['environment'].step(firing_matrix[-self.specification['output_neurons']:].astype(int))\n",
    "#             reward = 0 if self.previous_reward is None else current_reward - self.previous_reward\n",
    "#             self.previous_reward = current_reward\n",
    "#         if self.weight_idx == self.specification['input_neurons'] + self.specification['inter_neurons'] - 1:\n",
    "#             self.weight_idx = 0\n",
    "#             if self.neuron_idx == self.specification['inter_neurons'] + self.specification['output_neurons'] - 1:\n",
    "#                 self.neuron_idx = 0\n",
    "#             else:\n",
    "# #                 print(self.neuron_idx)\n",
    "#                 self.neuron_idx += 1\n",
    "#         else:\n",
    "#             self.weight_idx += 1\n",
    "        return state, reward, terminal, info"
   ]
  },
  {
   "cell_type": "code",
   "execution_count": 150,
   "metadata": {},
   "outputs": [],
   "source": [
    "input_neurons = 8\n",
    "inter_neurons = 128\n",
    "output_neurons = 8\n",
    "max_history = 16\n",
    "hidden_size = 32"
   ]
  },
  {
   "cell_type": "code",
   "execution_count": 160,
   "metadata": {},
   "outputs": [],
   "source": [
    "class Test2(gym.Env):\n",
    "    \n",
    "    def __init__(self):\n",
    "        self.action_space = gym.spaces.Box(0, 1, (1,))\n",
    "        self.observation_space = gym.spaces.Box(0, 1, (1,))\n",
    "        self.state = None\n",
    "        self.idx = None\n",
    "        self.random_seed = None\n",
    "        self.previous_action = None\n",
    "    \n",
    "    def seed(self, seed):\n",
    "        self.random_seed = seed\n",
    "        random.seed(seed)\n",
    "        return seed\n",
    "    \n",
    "    def close(self):\n",
    "        pass\n",
    "    \n",
    "    def reset(self):\n",
    "        self.state = numpy.ones((1,))\n",
    "        self.idx = 0\n",
    "        self.previous_action = 0\n",
    "        return self.state\n",
    "    \n",
    "    def step(self, action):\n",
    "#         print(action)\n",
    "#         print(self.idx)\n",
    "#         self.state[action] = int(not bool(self.state[action]))\n",
    "#         self.state = numpy.zeros((16,))\n",
    "#         self.state[self.idx] = 1\n",
    "        self.idx += 1\n",
    "        terminal = self.idx == 100\n",
    "        reward = 0.0\n",
    "#         if action[0] == 0 and self.previous_action == 0:\n",
    "#             reward = 1.0\n",
    "#         else:\n",
    "#             reward = -1000\n",
    "        if action[0] == 1:\n",
    "            reward = 1.0\n",
    "        elif self.previous_action == 0:\n",
    "            reward = 0.0\n",
    "        self.previous_action = action[0]\n",
    "        return self.state, reward, terminal, {}"
   ]
  },
  {
   "cell_type": "code",
   "execution_count": 161,
   "metadata": {},
   "outputs": [],
   "source": [
    "import numpy\n",
    "import gym\n",
    "\n",
    "from keras.models import Sequential\n",
    "from keras.layers import Dense, Activation, Flatten\n",
    "from keras.optimizers import Adam\n",
    "\n",
    "from rl.agents.dqn import DQNAgent\n",
    "from rl.policy import EpsGreedyQPolicy\n",
    "from rl.memory import SequentialMemory\n",
    "\n",
    "\n",
    "ENV_NAME = 'SNN'\n",
    "\n",
    "\n",
    "# Get the environment and extract the number of actions.\n",
    "#env = gym.make(ENV_NAME)\n",
    "env = SNN({'environment': Test2(), 'input_neurons': 1, 'inter_neurons': 64, 'output_neurons': 1, 'max_history': 16, 'neuroplasticity': True, 'learning_rate': 0.01})\n",
    "numpy.random.seed(0)\n",
    "env.seed(0)\n",
    "env.interconnect(0.1)\n",
    "nb_actions = env.action_space.n\n",
    "#functools.reduce(operator.mul, env.action_space.shape)"
   ]
  },
  {
   "cell_type": "code",
   "execution_count": 164,
   "metadata": {},
   "outputs": [
    {
     "name": "stderr",
     "output_type": "stream",
     "text": [
      "/home/santiago/.local/lib/python3.6/site-packages/skimage/io/_plugins/matplotlib_plugin.py:51: FutureWarning: Conversion of the second argument of issubdtype from `float` to `np.floating` is deprecated. In future, it will be treated as `np.float64 == np.dtype(float).type`.\n",
      "  out_of_range_float = (np.issubdtype(image.dtype, np.float) and\n"
     ]
    },
    {
     "data": {
      "text/plain": [
       "<matplotlib.image.AxesImage at 0x7f959de555f8>"
      ]
     },
     "execution_count": 164,
     "metadata": {},
     "output_type": "execute_result"
    },
    {
     "data": {
      "image/png": "[encoded data removed]",
      "text/plain": [
       "<matplotlib.figure.Figure at 0x7f959f48b978>"
      ]
     },
     "metadata": {},
     "output_type": "display_data"
    }
   ],
   "source": [
    "skimage.io.imshow(env.weight_matrix)"
   ]
  },
  {
   "cell_type": "code",
   "execution_count": 163,
   "metadata": {
    "scrolled": true
   },
   "outputs": [
    {
     "name": "stdout",
     "output_type": "stream",
     "text": [
      "_________________________________________________________________\n",
      "Layer (type)                 Output Shape              Param #   \n",
      "=================================================================\n",
      "reshape_36 (Reshape)         (None, 64)                0         \n",
      "_________________________________________________________________\n",
      "dense_141 (Dense)            (None, 64)                4160      \n",
      "_________________________________________________________________\n",
      "dense_142 (Dense)            (None, 32)                2080      \n",
      "_________________________________________________________________\n",
      "dense_143 (Dense)            (None, 16)                528       \n",
      "_________________________________________________________________\n",
      "dense_144 (Dense)            (None, 3)                 51        \n",
      "=================================================================\n",
      "Total params: 6,819\n",
      "Trainable params: 6,819\n",
      "Non-trainable params: 0\n",
      "_________________________________________________________________\n",
      "None\n",
      "Training for 50000 steps ...\n",
      "   100/50000: episode: 1, duration: 0.677s, episode steps: 100, steps per second: 148, episode reward: 26.000, mean reward: 0.260 [0.000, 1.000], mean action: 1.030 [0.000, 2.000], mean observation: 0.012 [0.000, 1.441], loss: --, mean_absolute_error: --, mean_q: --\n",
      "   200/50000: episode: 2, duration: 1.797s, episode steps: 100, steps per second: 56, episode reward: 7.000, mean reward: 0.070 [0.000, 1.000], mean action: 0.840 [0.000, 2.000], mean observation: 0.013 [0.000, 2.022], loss: 0.086943, mean_absolute_error: 0.241177, mean_q: 0.273670\n",
      "   300/50000: episode: 3, duration: 0.714s, episode steps: 100, steps per second: 140, episode reward: 5.000, mean reward: 0.050 [0.000, 1.000], mean action: 1.040 [0.000, 2.000], mean observation: 0.011 [0.000, 1.361], loss: 0.055516, mean_absolute_error: 0.315352, mean_q: 0.405008\n",
      "   400/50000: episode: 4, duration: 0.742s, episode steps: 100, steps per second: 135, episode reward: 10.000, mean reward: 0.100 [0.000, 1.000], mean action: 1.130 [0.000, 2.000], mean observation: 0.011 [0.000, 1.361], loss: 0.045912, mean_absolute_error: 0.361255, mean_q: 0.492520\n",
      "   500/50000: episode: 5, duration: 0.709s, episode steps: 100, steps per second: 141, episode reward: 34.000, mean reward: 0.340 [0.000, 1.000], mean action: 0.910 [0.000, 2.000], mean observation: 0.020 [0.000, 3.825], loss: 0.064372, mean_absolute_error: 0.480759, mean_q: 0.637176\n",
      "   600/50000: episode: 6, duration: 0.732s, episode steps: 100, steps per second: 137, episode reward: 2.000, mean reward: 0.020 [0.000, 1.000], mean action: 0.890 [0.000, 2.000], mean observation: 0.011 [0.000, 1.341], loss: 0.069986, mean_absolute_error: 0.579494, mean_q: 0.776409\n",
      "   700/50000: episode: 7, duration: 0.723s, episode steps: 100, steps per second: 138, episode reward: 0.000, mean reward: 0.000 [0.000, 0.000], mean action: 0.980 [0.000, 2.000], mean observation: 0.009 [0.000, 1.121], loss: 0.056669, mean_absolute_error: 0.638184, mean_q: 0.878990\n",
      "   800/50000: episode: 8, duration: 0.736s, episode steps: 100, steps per second: 136, episode reward: 0.000, mean reward: 0.000 [0.000, 0.000], mean action: 1.040 [0.000, 2.000], mean observation: 0.010 [0.000, 1.101], loss: 0.053060, mean_absolute_error: 0.698765, mean_q: 0.992107\n",
      "   900/50000: episode: 9, duration: 0.728s, episode steps: 100, steps per second: 137, episode reward: 0.000, mean reward: 0.000 [0.000, 0.000], mean action: 1.010 [0.000, 2.000], mean observation: 0.010 [0.000, 1.181], loss: 0.050990, mean_absolute_error: 0.739996, mean_q: 1.058684\n",
      "  1000/50000: episode: 10, duration: 0.748s, episode steps: 100, steps per second: 134, episode reward: 0.000, mean reward: 0.000 [0.000, 0.000], mean action: 1.080 [0.000, 2.000], mean observation: 0.010 [0.000, 1.201], loss: 0.042995, mean_absolute_error: 0.769407, mean_q: 1.109175\n",
      "  1100/50000: episode: 11, duration: 0.743s, episode steps: 100, steps per second: 135, episode reward: 14.000, mean reward: 0.140 [0.000, 1.000], mean action: 1.090 [0.000, 2.000], mean observation: 0.012 [0.000, 1.391], loss: 0.046595, mean_absolute_error: 0.836516, mean_q: 1.216185\n",
      "  1200/50000: episode: 12, duration: 0.723s, episode steps: 100, steps per second: 138, episode reward: 46.000, mean reward: 0.460 [0.000, 1.000], mean action: 1.070 [0.000, 2.000], mean observation: 0.020 [-0.078, 3.266], loss: 0.056659, mean_absolute_error: 0.917433, mean_q: 1.306758\n",
      "  1300/50000: episode: 13, duration: 0.721s, episode steps: 100, steps per second: 139, episode reward: 48.000, mean reward: 0.480 [0.000, 1.000], mean action: 1.030 [0.000, 2.000], mean observation: 0.026 [0.000, 4.874], loss: 0.074704, mean_absolute_error: 1.028960, mean_q: 1.460618\n",
      "  1400/50000: episode: 14, duration: 0.720s, episode steps: 100, steps per second: 139, episode reward: 48.000, mean reward: 0.480 [0.000, 1.000], mean action: 0.970 [0.000, 2.000], mean observation: 0.040 [0.000, 10.220], loss: 0.104417, mean_absolute_error: 1.159111, mean_q: 1.638169\n",
      "  1500/50000: episode: 15, duration: 0.748s, episode steps: 100, steps per second: 134, episode reward: 48.000, mean reward: 0.480 [0.000, 1.000], mean action: 0.940 [0.000, 2.000], mean observation: 0.027 [0.000, 4.211], loss: 0.149062, mean_absolute_error: 1.330738, mean_q: 1.890764\n",
      "  1600/50000: episode: 16, duration: 0.725s, episode steps: 100, steps per second: 138, episode reward: 48.000, mean reward: 0.480 [0.000, 1.000], mean action: 1.010 [0.000, 2.000], mean observation: 0.029 [0.000, 5.149], loss: 0.122269, mean_absolute_error: 1.488357, mean_q: 2.127188\n",
      "  1700/50000: episode: 17, duration: 0.725s, episode steps: 100, steps per second: 138, episode reward: 28.000, mean reward: 0.280 [0.000, 1.000], mean action: 0.950 [0.000, 2.000], mean observation: 0.017 [-0.288, 3.573], loss: 0.135354, mean_absolute_error: 1.622578, mean_q: 2.326223\n",
      "  1800/50000: episode: 18, duration: 0.744s, episode steps: 100, steps per second: 134, episode reward: 3.000, mean reward: 0.030 [0.000, 1.000], mean action: 0.850 [0.000, 2.000], mean observation: 0.012 [0.000, 1.326], loss: 0.137079, mean_absolute_error: 1.781111, mean_q: 2.546039\n",
      "  1900/50000: episode: 19, duration: 0.764s, episode steps: 100, steps per second: 131, episode reward: 0.000, mean reward: 0.000 [0.000, 0.000], mean action: 0.930 [0.000, 2.000], mean observation: 0.010 [0.000, 1.146], loss: 0.154111, mean_absolute_error: 1.877457, mean_q: 2.702195\n",
      "  2000/50000: episode: 20, duration: 0.747s, episode steps: 100, steps per second: 134, episode reward: 0.000, mean reward: 0.000 [0.000, 0.000], mean action: 0.900 [0.000, 2.000], mean observation: 0.008 [0.000, 1.000], loss: 0.143036, mean_absolute_error: 1.982916, mean_q: 2.863593\n",
      "  2100/50000: episode: 21, duration: 0.754s, episode steps: 100, steps per second: 133, episode reward: 0.000, mean reward: 0.000 [0.000, 0.000], mean action: 1.050 [0.000, 2.000], mean observation: 0.007 [0.000, 1.000], loss: 0.124795, mean_absolute_error: 2.061271, mean_q: 2.983963\n",
      "  2200/50000: episode: 22, duration: 0.719s, episode steps: 100, steps per second: 139, episode reward: 0.000, mean reward: 0.000 [0.000, 0.000], mean action: 1.060 [0.000, 2.000], mean observation: 0.009 [0.000, 1.000], loss: 0.144209, mean_absolute_error: 2.138747, mean_q: 3.099797\n",
      "  2300/50000: episode: 23, duration: 0.713s, episode steps: 100, steps per second: 140, episode reward: 0.000, mean reward: 0.000 [0.000, 0.000], mean action: 0.950 [0.000, 2.000], mean observation: 0.009 [0.000, 1.026], loss: 0.133340, mean_absolute_error: 2.215852, mean_q: 3.207341\n",
      "  2400/50000: episode: 24, duration: 0.745s, episode steps: 100, steps per second: 134, episode reward: 0.000, mean reward: 0.000 [0.000, 0.000], mean action: 0.880 [0.000, 2.000], mean observation: 0.008 [0.000, 1.000], loss: 0.158954, mean_absolute_error: 2.310075, mean_q: 3.345471\n",
      "  2500/50000: episode: 25, duration: 0.744s, episode steps: 100, steps per second: 134, episode reward: 0.000, mean reward: 0.000 [0.000, 0.000], mean action: 0.810 [0.000, 2.000], mean observation: 0.006 [0.000, 1.000], loss: 0.163764, mean_absolute_error: 2.375724, mean_q: 3.464384\n",
      "  2600/50000: episode: 26, duration: 0.748s, episode steps: 100, steps per second: 134, episode reward: 0.000, mean reward: 0.000 [0.000, 0.000], mean action: 1.010 [0.000, 2.000], mean observation: -0.002 [-0.448, 0.206], loss: 0.170741, mean_absolute_error: 2.460244, mean_q: 3.597127\n"
     ]
    },
    {
     "name": "stdout",
     "output_type": "stream",
     "text": [
      "  2700/50000: episode: 27, duration: 0.742s, episode steps: 100, steps per second: 135, episode reward: 0.000, mean reward: 0.000 [0.000, 0.000], mean action: 0.970 [0.000, 2.000], mean observation: -0.004 [-1.000, 0.146], loss: 0.158694, mean_absolute_error: 2.522339, mean_q: 3.671645\n",
      "  2800/50000: episode: 28, duration: 0.745s, episode steps: 100, steps per second: 134, episode reward: 0.000, mean reward: 0.000 [0.000, 0.000], mean action: 0.760 [0.000, 2.000], mean observation: -0.003 [-1.000, 0.166], loss: 0.192029, mean_absolute_error: 2.572355, mean_q: 3.742008\n",
      "  2900/50000: episode: 29, duration: 0.744s, episode steps: 100, steps per second: 134, episode reward: 0.000, mean reward: 0.000 [0.000, 0.000], mean action: 0.900 [0.000, 2.000], mean observation: -0.009 [-1.000, 0.000], loss: 0.228845, mean_absolute_error: 2.590037, mean_q: 3.797327\n",
      "  3000/50000: episode: 30, duration: 0.722s, episode steps: 100, steps per second: 138, episode reward: 0.000, mean reward: 0.000 [0.000, 0.000], mean action: 0.990 [0.000, 2.000], mean observation: -0.010 [-1.000, 0.000], loss: 0.156503, mean_absolute_error: 2.633696, mean_q: 3.861550\n",
      "  3100/50000: episode: 31, duration: 0.748s, episode steps: 100, steps per second: 134, episode reward: 0.000, mean reward: 0.000 [0.000, 0.000], mean action: 1.050 [0.000, 2.000], mean observation: -0.009 [-1.000, 0.000], loss: 0.166292, mean_absolute_error: 2.680101, mean_q: 3.929529\n",
      "  3200/50000: episode: 32, duration: 0.738s, episode steps: 100, steps per second: 135, episode reward: 0.000, mean reward: 0.000 [0.000, 0.000], mean action: 1.180 [0.000, 2.000], mean observation: -0.008 [-1.000, 0.000], loss: 0.152150, mean_absolute_error: 2.712609, mean_q: 3.973861\n",
      "done, took 24.900 seconds\n"
     ]
    },
    {
     "data": {
      "text/plain": [
       "<keras.callbacks.History at 0x7f959e6f9eb8>"
      ]
     },
     "execution_count": 163,
     "metadata": {},
     "output_type": "execute_result"
    }
   ],
   "source": [
    "# Next, we build a very simple model.\n",
    "# model = Sequential()\n",
    "# model.add(Reshape((16, 4), input_shape=(1, 16, 4)))\n",
    "# model.add(Bidirectional(LSTM(32, return_sequences=True), merge_mode='concat'))\n",
    "# model.add(Dropout(0.25))\n",
    "# model.add(Bidirectional(LSTM(32), merge_mode='concat'))\n",
    "# model.add(Dropout(0.25))\n",
    "# model.add(Dense(3, activation='linear'))\n",
    "# print(model.summary())\n",
    "model = Sequential()\n",
    "model.add(Reshape((64,), input_shape=(1, 16, 4)))\n",
    "model.add(Dense(64, activation='relu'))\n",
    "model.add(Dense(32, activation='relu'))\n",
    "model.add(Dense(16, activation='relu'))\n",
    "model.add(Dense(nb_actions, activation='linear'))\n",
    "print(model.summary())\n",
    "\n",
    "# Finally, we configure and compile our agent. You can use every built-in Keras optimizer and\n",
    "# even the metrics!\n",
    "memory = SequentialMemory(limit=50000, window_length=1)\n",
    "policy = EpsGreedyQPolicy(0.99)\n",
    "dqn = DQNAgent(model=model, nb_actions=nb_actions, memory=memory, nb_steps_warmup=100,\n",
    "               target_model_update=1e-2, policy=policy)\n",
    "dqn.compile(Adam(lr=1e-3), metrics=['mae'])\n",
    "\n",
    "# Okay, now it's time to learn something! We visualize the training here for show, but this\n",
    "# slows down training quite a lot. You can always safely abort the training prematurely using\n",
    "# Ctrl + C.\n",
    "dqn.fit(env, nb_steps=50000, visualize=False, verbose=2)"
   ]
  },
  {
   "cell_type": "code",
   "execution_count": null,
   "metadata": {},
   "outputs": [],
   "source": []
  }
 ],
 "metadata": {
  "kernelspec": {
   "display_name": "Python 3",
   "language": "python",
   "name": "python3"
  },
  "language_info": {
   "codemirror_mode": {
    "name": "ipython",
    "version": 3
   },
   "file_extension": ".py",
   "mimetype": "text/x-python",
   "name": "python",
   "nbconvert_exporter": "python",
   "pygments_lexer": "ipython3",
   "version": "3.6.3"
  }
 },
 "nbformat": 4,
 "nbformat_minor": 2
}
