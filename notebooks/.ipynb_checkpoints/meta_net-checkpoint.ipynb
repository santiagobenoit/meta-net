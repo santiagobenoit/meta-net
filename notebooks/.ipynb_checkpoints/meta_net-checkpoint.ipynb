{
 "cells": [
  {
   "cell_type": "code",
   "execution_count": null,
   "metadata": {},
   "outputs": [],
   "source": [
    "import math\n",
    "\n",
    "import keras\n",
    "from keras.layers import *\n",
    "from keras.models import *\n",
    "from keras.optimizers import *\n",
    "import numpy\n",
    "import scipy.sparse"
   ]
  },
  {
   "cell_type": "code",
   "execution_count": null,
   "metadata": {},
   "outputs": [],
   "source": [
    "INPUT_NEURONS = 10\n",
    "INTER_NEURONS = 1000\n",
    "OUTPUT_NEURONS = 10\n",
    "HIDDEN_SIZE = 50\n",
    "LR = 0.001\n",
    "META_LR = 0.001\n",
    "MAX_HISTORY = 10"
   ]
  },
  {
   "cell_type": "code",
   "execution_count": null,
   "metadata": {},
   "outputs": [],
   "source": [
    "# input_layer = Input((None, INTER_NEURONS + OUTPUT_NEURONS + 2))\n",
    "# x = Bidirectional(LSTM(HIDDEN_SIZE, return_sequences=True), merge_mode='concat')(input_layer)\n",
    "# x = Dropout(0.25)(x)\n",
    "# x = Bidirectional(LSTM(HIDDEN_SIZE, return_sequences=False), merge_mode='concat')(x)\n",
    "# x = Dropout(0.25)(x)\n",
    "# output_layer = Dense(INTER_NEURONS + OUTPUT_NEURONS - 1, activation='tanh')(x)\n",
    "# model = Model(input_layer, output_layer)\n",
    "# model.compile(optimizer=Adam(lr=LR), loss='mean_squared_error', metrics=['accuracy'])\n",
    "# model.summary()"
   ]
  },
  {
   "cell_type": "code",
   "execution_count": null,
   "metadata": {},
   "outputs": [],
   "source": [
    "potential_matrix = numpy.zeros((INPUT_NEURONS + INTER_NEURONS + OUTPUT_NEURONS,))\n",
    "inter_weight_matrix = numpy.random.uniform(-1 / math.sqrt(INPUT_NEURONS + INTER_NEURONS), 1 / math.sqrt(INPUT_NEURONS + INTER_NEURONS), (INTER_NEURONS, INPUT_NEURONS + INTER_NEURONS))\n",
    "output_weight_matrix = numpy.random.uniform(-1 / math.sqrt(INTER_NEURONS), 1 / math.sqrt(INTER_NEURONS), (OUTPUT_NEURONS, INTER_NEURONS))\n",
    "#inter_weight_matrix = numpy.zeros((INTER_NEURONS, INPUT_NEURONS + INTER_NEURONS))\n",
    "#output_weight_matrix = numpy.zeros((OUTPUT_NEURONS, INTER_NEURONS))"
   ]
  },
  {
   "cell_type": "code",
   "execution_count": null,
   "metadata": {},
   "outputs": [],
   "source": [
    "for i in range(INTER_NEURONS):\n",
    "    inter_weight_matrix[i, INPUT_NEURONS + i] = 0"
   ]
  },
  {
   "cell_type": "code",
   "execution_count": null,
   "metadata": {},
   "outputs": [],
   "source": [
    "potential_matrix.shape"
   ]
  },
  {
   "cell_type": "code",
   "execution_count": null,
   "metadata": {},
   "outputs": [],
   "source": [
    "inter_weight_matrix.shape"
   ]
  },
  {
   "cell_type": "code",
   "execution_count": null,
   "metadata": {},
   "outputs": [],
   "source": [
    "output_weight_matrix.shape"
   ]
  },
  {
   "cell_type": "code",
   "execution_count": null,
   "metadata": {},
   "outputs": [],
   "source": [
    "inter_history_matrix = numpy.zeros((INTER_NEURONS, MAX_HISTORY, INPUT_NEURONS + INTER_NEURONS + 2))"
   ]
  },
  {
   "cell_type": "code",
   "execution_count": null,
   "metadata": {},
   "outputs": [],
   "source": [
    "output_history_matrix = numpy.zeros((OUTPUT_NEURONS, MAX_HISTORY, INTER_NEURONS + 2))"
   ]
  },
  {
   "cell_type": "code",
   "execution_count": null,
   "metadata": {},
   "outputs": [],
   "source": [
    "inter_history_matrix.shape"
   ]
  },
  {
   "cell_type": "code",
   "execution_count": null,
   "metadata": {},
   "outputs": [],
   "source": [
    "output_history_matrix.shape"
   ]
  },
  {
   "cell_type": "code",
   "execution_count": null,
   "metadata": {},
   "outputs": [],
   "source": [
    "class Environment(object):\n",
    "    def __init__(self, bits, events):\n",
    "        self.generator = self._generator(bits, events)\n",
    "    def _generator(self, bits, events):\n",
    "        while True: # test\n",
    "            for i in range(events):\n",
    "                yield numpy.random.randint(2, size=(bits,))\n",
    "            for i in range(events):\n",
    "                yield numpy.zeros((bits,))\n",
    "    def read(self):\n",
    "        return next(self.generator)\n",
    "    def write(self, data):\n",
    "        pass"
   ]
  },
  {
   "cell_type": "code",
   "execution_count": null,
   "metadata": {},
   "outputs": [],
   "source": [
    "def network_stepper(environment, train=True, meta_train=True): # superseded\n",
    "    global potential_matrix\n",
    "    global inter_weight_matrix\n",
    "    global output_weight_matrix\n",
    "    global inter_history_matrix\n",
    "    global output_history_matrix\n",
    "    while True:\n",
    "        potential_matrix[:INPUT_NEURONS] = numpy.add(potential_matrix[:INPUT_NEURONS], environment.read())\n",
    "        firing_matrix = numpy.vectorize(lambda x: x >= 1)(potential_matrix).astype(int)\n",
    "        for i in range(INTER_NEURONS):\n",
    "            pos = INPUT_NEURONS + i\n",
    "            deltas = numpy.multiply(firing_matrix[:-OUTPUT_NEURONS], inter_weight_matrix[i])\n",
    "            if train:\n",
    "                inter_history_matrix[i, MAX_HISTORY - 1, :] = numpy.concatenate([potential_matrix[pos:pos + 1], firing_matrix[pos:pos + 1], deltas])\n",
    "            potential_matrix[pos] += numpy.sum(deltas)\n",
    "        for i in range(OUTPUT_NEURONS):\n",
    "            pos = INPUT_NEURONS + INTER_NEURONS + i\n",
    "            deltas = numpy.multiply(firing_matrix[INPUT_NEURONS:-OUTPUT_NEURONS], output_weight_matrix[i])\n",
    "            if train:\n",
    "                output_history_matrix[i, MAX_HISTORY - 1, :] = numpy.concatenate([potential_matrix[pos:pos + 1], firing_matrix[pos:pos + 1], deltas])\n",
    "            potential_matrix[pos] += numpy.sum(deltas)\n",
    "        potential_matrix = numpy.multiply(potential_matrix, numpy.invert(firing_matrix))\n",
    "        environment.write(firing_matrix[-OUTPUT_NEURONS:])\n",
    "        if train:\n",
    "            inter_history_matrix = numpy.roll(inter_history_matrix, 1, axis=1)\n",
    "            output_history_matrix = numpy.roll(output_history_matrix, 1, axis=1)\n",
    "            if meta_train:\n",
    "                pass\n",
    "        yield firing_matrix[-OUTPUT_NEURONS:]"
   ]
  },
  {
   "cell_type": "code",
   "execution_count": null,
   "metadata": {},
   "outputs": [],
   "source": [
    "stepper = network_stepper(Environment(10, 10), train=False, meta_train=False)"
   ]
  },
  {
   "cell_type": "code",
   "execution_count": null,
   "metadata": {},
   "outputs": [],
   "source": [
    "next(stepper)"
   ]
  },
  {
   "cell_type": "code",
   "execution_count": null,
   "metadata": {},
   "outputs": [],
   "source": [
    "for i in range(1000):\n",
    "    print(next(stepper))"
   ]
  },
  {
   "cell_type": "code",
   "execution_count": null,
   "metadata": {},
   "outputs": [],
   "source": []
  },
  {
   "cell_type": "code",
   "execution_count": null,
   "metadata": {},
   "outputs": [],
   "source": []
  },
  {
   "cell_type": "code",
   "execution_count": null,
   "metadata": {},
   "outputs": [],
   "source": []
  }
 ],
 "metadata": {
  "kernelspec": {
   "display_name": "Python 3",
   "language": "python",
   "name": "python3"
  },
  "language_info": {
   "codemirror_mode": {
    "name": "ipython",
    "version": 3
   },
   "file_extension": ".py",
   "mimetype": "text/x-python",
   "name": "python",
   "nbconvert_exporter": "python",
   "pygments_lexer": "ipython3",
   "version": "3.6.3"
  }
 },
 "nbformat": 4,
 "nbformat_minor": 2
}
